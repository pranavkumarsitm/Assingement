{
 "cells": [
  {
   "cell_type": "code",
   "execution_count": 1,
   "id": "06c2ae69-af2b-4dc4-b1e3-df70555ecf83",
   "metadata": {},
   "outputs": [],
   "source": [
    "a=10"
   ]
  },
  {
   "cell_type": "code",
   "execution_count": 2,
   "id": "9d2d92d9-72db-4a06-97c2-dff717f61d85",
   "metadata": {},
   "outputs": [
    {
     "data": {
      "text/plain": [
       "10"
      ]
     },
     "execution_count": 2,
     "metadata": {},
     "output_type": "execute_result"
    }
   ],
   "source": [
    "a"
   ]
  },
  {
   "cell_type": "code",
   "execution_count": 3,
   "id": "86146858-2a1d-4231-aaf1-59c5e15d5fba",
   "metadata": {},
   "outputs": [],
   "source": [
    "abc=20"
   ]
  },
  {
   "cell_type": "code",
   "execution_count": 4,
   "id": "81418c82-0014-404e-aa30-11aa13fa1ac4",
   "metadata": {},
   "outputs": [
    {
     "data": {
      "text/plain": [
       "20"
      ]
     },
     "execution_count": 4,
     "metadata": {},
     "output_type": "execute_result"
    }
   ],
   "source": [
    "abc\n"
   ]
  },
  {
   "cell_type": "code",
   "execution_count": 5,
   "id": "4e78a76c-db2d-4dd6-8515-a45f57364077",
   "metadata": {},
   "outputs": [
    {
     "ename": "NameError",
     "evalue": "name 'ABC' is not defined",
     "output_type": "error",
     "traceback": [
      "\u001b[0;31m---------------------------------------------------------------------------\u001b[0m",
      "\u001b[0;31mNameError\u001b[0m                                 Traceback (most recent call last)",
      "Cell \u001b[0;32mIn[5], line 1\u001b[0m\n\u001b[0;32m----> 1\u001b[0m \u001b[43mABC\u001b[49m\n",
      "\u001b[0;31mNameError\u001b[0m: name 'ABC' is not defined"
     ]
    }
   ],
   "source": [
    "ABC"
   ]
  },
  {
   "cell_type": "code",
   "execution_count": 6,
   "id": "2df94fb8-ea27-4ed3-800b-288aeca66d90",
   "metadata": {},
   "outputs": [
    {
     "data": {
      "text/plain": [
       "20"
      ]
     },
     "execution_count": 6,
     "metadata": {},
     "output_type": "execute_result"
    }
   ],
   "source": [
    "abc"
   ]
  },
  {
   "cell_type": "code",
   "execution_count": 7,
   "id": "a5c9f922-be17-4b2d-bc0d-2da804c69b91",
   "metadata": {},
   "outputs": [
    {
     "data": {
      "text/plain": [
       "30"
      ]
     },
     "execution_count": 7,
     "metadata": {},
     "output_type": "execute_result"
    }
   ],
   "source": [
    "a+abc\n"
   ]
  },
  {
   "cell_type": "code",
   "execution_count": 8,
   "id": "1da4e11d-ba9e-4efc-8f70-f9fe9dbae895",
   "metadata": {},
   "outputs": [
    {
     "data": {
      "text/plain": [
       "int"
      ]
     },
     "execution_count": 8,
     "metadata": {},
     "output_type": "execute_result"
    }
   ],
   "source": [
    "type(a)\n"
   ]
  },
  {
   "cell_type": "code",
   "execution_count": 9,
   "id": "cddbb0c8-47f4-40ad-a805-030fc73c0426",
   "metadata": {},
   "outputs": [],
   "source": [
    "b=2.09\n"
   ]
  },
  {
   "cell_type": "code",
   "execution_count": 10,
   "id": "94dd6f57-539b-44e8-a5a3-ee61b3605455",
   "metadata": {},
   "outputs": [
    {
     "data": {
      "text/plain": [
       "float"
      ]
     },
     "execution_count": 10,
     "metadata": {},
     "output_type": "execute_result"
    }
   ],
   "source": [
    "type(b)\n"
   ]
  },
  {
   "cell_type": "code",
   "execution_count": 11,
   "id": "65f30920-5664-412d-b691-8259ea02481b",
   "metadata": {},
   "outputs": [
    {
     "ename": "NameError",
     "evalue": "name 'ABC' is not defined",
     "output_type": "error",
     "traceback": [
      "\u001b[0;31m---------------------------------------------------------------------------\u001b[0m",
      "\u001b[0;31mNameError\u001b[0m                                 Traceback (most recent call last)",
      "Cell \u001b[0;32mIn[11], line 1\u001b[0m\n\u001b[0;32m----> 1\u001b[0m c\u001b[38;5;241m=\u001b[39m\u001b[43mABC\u001b[49m\n",
      "\u001b[0;31mNameError\u001b[0m: name 'ABC' is not defined"
     ]
    }
   ],
   "source": [
    "c=ABC"
   ]
  },
  {
   "cell_type": "code",
   "execution_count": 12,
   "id": "a4b4ab4a-8271-413f-a8f8-c20f2e1a0850",
   "metadata": {},
   "outputs": [
    {
     "ename": "NameError",
     "evalue": "name 'ABC' is not defined",
     "output_type": "error",
     "traceback": [
      "\u001b[0;31m---------------------------------------------------------------------------\u001b[0m",
      "\u001b[0;31mNameError\u001b[0m                                 Traceback (most recent call last)",
      "Cell \u001b[0;32mIn[12], line 1\u001b[0m\n\u001b[0;32m----> 1\u001b[0m c \u001b[38;5;241m=\u001b[39m \u001b[43mABC\u001b[49m\n",
      "\u001b[0;31mNameError\u001b[0m: name 'ABC' is not defined"
     ]
    }
   ],
   "source": [
    "c = ABC"
   ]
  },
  {
   "cell_type": "code",
   "execution_count": 13,
   "id": "c3696bdf-194f-4f28-8d0b-23c393e09b95",
   "metadata": {},
   "outputs": [],
   "source": [
    "c = \"ABC\""
   ]
  },
  {
   "cell_type": "code",
   "execution_count": 14,
   "id": "991575b1-46dc-4ec9-b6d5-8515ca514651",
   "metadata": {},
   "outputs": [
    {
     "data": {
      "text/plain": [
       "str"
      ]
     },
     "execution_count": 14,
     "metadata": {},
     "output_type": "execute_result"
    }
   ],
   "source": [
    "type(c)\n"
   ]
  },
  {
   "cell_type": "code",
   "execution_count": 15,
   "id": "0860fca2-ff18-4b70-8195-5d2efef146c5",
   "metadata": {},
   "outputs": [
    {
     "ename": "SyntaxError",
     "evalue": "invalid syntax (339036394.py, line 1)",
     "output_type": "error",
     "traceback": [
      "\u001b[0;36m  Cell \u001b[0;32mIn[15], line 1\u001b[0;36m\u001b[0m\n\u001b[0;31m    n True\u001b[0m\n\u001b[0m      ^\u001b[0m\n\u001b[0;31mSyntaxError\u001b[0m\u001b[0;31m:\u001b[0m invalid syntax\n"
     ]
    }
   ],
   "source": [
    "n True"
   ]
  },
  {
   "cell_type": "code",
   "execution_count": 16,
   "id": "bc3dd7a3-6171-46dc-a422-7b9359631b66",
   "metadata": {},
   "outputs": [],
   "source": [
    "n = True\n"
   ]
  },
  {
   "cell_type": "code",
   "execution_count": 17,
   "id": "158abf70-911a-4f08-8a78-b21b165561ed",
   "metadata": {},
   "outputs": [
    {
     "data": {
      "text/plain": [
       "bool"
      ]
     },
     "execution_count": 17,
     "metadata": {},
     "output_type": "execute_result"
    }
   ],
   "source": [
    "type(n)\n"
   ]
  },
  {
   "cell_type": "code",
   "execution_count": 18,
   "id": "e395c0eb-638b-47f2-b9ca-804dffe563f0",
   "metadata": {},
   "outputs": [],
   "source": [
    "m = False"
   ]
  },
  {
   "cell_type": "code",
   "execution_count": 19,
   "id": "7ec3ec25-d709-406a-ab94-22a1e50aab33",
   "metadata": {},
   "outputs": [
    {
     "data": {
      "text/plain": [
       "1"
      ]
     },
     "execution_count": 19,
     "metadata": {},
     "output_type": "execute_result"
    }
   ],
   "source": [
    "n+m"
   ]
  },
  {
   "cell_type": "code",
   "execution_count": 20,
   "id": "1987c8dd-d4dc-455b-a772-55ad51560ccf",
   "metadata": {},
   "outputs": [
    {
     "data": {
      "text/plain": [
       "0"
      ]
     },
     "execution_count": 20,
     "metadata": {},
     "output_type": "execute_result"
    }
   ],
   "source": [
    "n*m"
   ]
  },
  {
   "cell_type": "code",
   "execution_count": 21,
   "id": "7b709a84-d32b-49ae-8f0f-3ec2af3fcb4e",
   "metadata": {},
   "outputs": [
    {
     "ename": "ZeroDivisionError",
     "evalue": "division by zero",
     "output_type": "error",
     "traceback": [
      "\u001b[0;31m---------------------------------------------------------------------------\u001b[0m",
      "\u001b[0;31mZeroDivisionError\u001b[0m                         Traceback (most recent call last)",
      "Cell \u001b[0;32mIn[21], line 1\u001b[0m\n\u001b[0;32m----> 1\u001b[0m \u001b[43mn\u001b[49m\u001b[38;5;241;43m/\u001b[39;49m\u001b[43mm\u001b[49m\n",
      "\u001b[0;31mZeroDivisionError\u001b[0m: division by zero"
     ]
    }
   ],
   "source": [
    "n/m"
   ]
  },
  {
   "cell_type": "code",
   "execution_count": 22,
   "id": "cb15439e-a7d7-4eea-a427-8f6275eed458",
   "metadata": {},
   "outputs": [
    {
     "ename": "ZeroDivisionError",
     "evalue": "division by zero",
     "output_type": "error",
     "traceback": [
      "\u001b[0;31m---------------------------------------------------------------------------\u001b[0m",
      "\u001b[0;31mZeroDivisionError\u001b[0m                         Traceback (most recent call last)",
      "Cell \u001b[0;32mIn[22], line 1\u001b[0m\n\u001b[0;32m----> 1\u001b[0m \u001b[43mn\u001b[49m\u001b[43m \u001b[49m\u001b[38;5;241;43m/\u001b[39;49m\u001b[43m \u001b[49m\u001b[43mm\u001b[49m\n",
      "\u001b[0;31mZeroDivisionError\u001b[0m: division by zero"
     ]
    }
   ],
   "source": [
    "n / m"
   ]
  },
  {
   "cell_type": "code",
   "execution_count": 23,
   "id": "06beb3e2-9a73-41ba-98b4-a0a529fbc693",
   "metadata": {},
   "outputs": [
    {
     "data": {
      "text/plain": [
       "0.0"
      ]
     },
     "execution_count": 23,
     "metadata": {},
     "output_type": "execute_result"
    }
   ],
   "source": [
    "m / n"
   ]
  },
  {
   "cell_type": "code",
   "execution_count": 3,
   "id": "60ed09d9-1625-417f-a5ef-150f2d2b5678",
   "metadata": {},
   "outputs": [],
   "source": [
    "z = 6 + 5j"
   ]
  },
  {
   "cell_type": "code",
   "execution_count": 4,
   "id": "7becbea4-5b05-46bc-9707-f432f206ecd8",
   "metadata": {},
   "outputs": [
    {
     "data": {
      "text/plain": [
       "complex"
      ]
     },
     "execution_count": 4,
     "metadata": {},
     "output_type": "execute_result"
    }
   ],
   "source": [
    "type(z)"
   ]
  },
  {
   "cell_type": "code",
   "execution_count": 5,
   "id": "395fae61-0437-4022-ba2e-b83a1592f3f5",
   "metadata": {},
   "outputs": [
    {
     "data": {
      "text/plain": [
       "6.0"
      ]
     },
     "execution_count": 5,
     "metadata": {},
     "output_type": "execute_result"
    }
   ],
   "source": [
    "z.real"
   ]
  },
  {
   "cell_type": "code",
   "execution_count": 6,
   "id": "ad6e8042-eb29-4222-9472-30585f087481",
   "metadata": {},
   "outputs": [
    {
     "data": {
      "text/plain": [
       "5.0"
      ]
     },
     "execution_count": 6,
     "metadata": {},
     "output_type": "execute_result"
    }
   ],
   "source": [
    "z.imag"
   ]
  },
  {
   "cell_type": "code",
   "execution_count": 7,
   "id": "57260bce-0b61-4cdd-9337-6e6baf48ca9e",
   "metadata": {},
   "outputs": [
    {
     "name": "stdout",
     "output_type": "stream",
     "text": [
      "Ram is not a good boy\n"
     ]
    }
   ],
   "source": [
    "print(\"Ram is not a good boy\")"
   ]
  },
  {
   "cell_type": "code",
   "execution_count": 8,
   "id": "638c85db-6954-4771-a3d3-18fd1d9d871f",
   "metadata": {},
   "outputs": [
    {
     "ename": "NameError",
     "evalue": "name 'a' is not defined",
     "output_type": "error",
     "traceback": [
      "\u001b[0;31m---------------------------------------------------------------------------\u001b[0m",
      "\u001b[0;31mNameError\u001b[0m                                 Traceback (most recent call last)",
      "Cell \u001b[0;32mIn[8], line 1\u001b[0m\n\u001b[0;32m----> 1\u001b[0m \u001b[38;5;28mprint\u001b[39m(\u001b[43ma\u001b[49m)\n",
      "\u001b[0;31mNameError\u001b[0m: name 'a' is not defined"
     ]
    }
   ],
   "source": [
    "print(a)"
   ]
  },
  {
   "cell_type": "code",
   "execution_count": 9,
   "id": "84c4218c-ebbe-4889-818b-8f53b39e2207",
   "metadata": {},
   "outputs": [
    {
     "ename": "NameError",
     "evalue": "name 'b' is not defined",
     "output_type": "error",
     "traceback": [
      "\u001b[0;31m---------------------------------------------------------------------------\u001b[0m",
      "\u001b[0;31mNameError\u001b[0m                                 Traceback (most recent call last)",
      "Cell \u001b[0;32mIn[9], line 1\u001b[0m\n\u001b[0;32m----> 1\u001b[0m \u001b[38;5;28mprint\u001b[39m(\u001b[43mb\u001b[49m)\n",
      "\u001b[0;31mNameError\u001b[0m: name 'b' is not defined"
     ]
    }
   ],
   "source": [
    "print(b)"
   ]
  },
  {
   "cell_type": "code",
   "execution_count": 10,
   "id": "f4b7fd85-516e-4add-9d01-afc41d2816e5",
   "metadata": {},
   "outputs": [],
   "source": [
    "a=10"
   ]
  },
  {
   "cell_type": "code",
   "execution_count": 11,
   "id": "aad6e122-5f6f-4f2d-9ef4-c9d2273ecddb",
   "metadata": {},
   "outputs": [
    {
     "name": "stdout",
     "output_type": "stream",
     "text": [
      "10\n"
     ]
    }
   ],
   "source": [
    "print(a)\n"
   ]
  },
  {
   "cell_type": "code",
   "execution_count": 12,
   "id": "c49ebabb-2daa-4fcc-b20d-c20b8be8d749",
   "metadata": {},
   "outputs": [],
   "source": [
    "s=\"pwskills\""
   ]
  },
  {
   "cell_type": "code",
   "execution_count": 13,
   "id": "d9b97762-dae1-4d9f-8632-63bc38dc50dd",
   "metadata": {},
   "outputs": [
    {
     "data": {
      "text/plain": [
       "str"
      ]
     },
     "execution_count": 13,
     "metadata": {},
     "output_type": "execute_result"
    }
   ],
   "source": [
    "type(s)"
   ]
  },
  {
   "cell_type": "code",
   "execution_count": 14,
   "id": "60ae382c-0fbe-4ec6-97ca-2889eb8cff05",
   "metadata": {},
   "outputs": [
    {
     "data": {
      "text/plain": [
       "'p'"
      ]
     },
     "execution_count": 14,
     "metadata": {},
     "output_type": "execute_result"
    }
   ],
   "source": [
    "s[0]"
   ]
  },
  {
   "cell_type": "code",
   "execution_count": 15,
   "id": "8e57abe6-0635-4796-b7e9-061cb1a77caa",
   "metadata": {},
   "outputs": [
    {
     "data": {
      "text/plain": [
       "'k'"
      ]
     },
     "execution_count": 15,
     "metadata": {},
     "output_type": "execute_result"
    }
   ],
   "source": [
    "s[3]"
   ]
  },
  {
   "cell_type": "code",
   "execution_count": 16,
   "id": "fe175f8c-67ba-40b8-9444-74bb72bced02",
   "metadata": {},
   "outputs": [
    {
     "data": {
      "text/plain": [
       "'l'"
      ]
     },
     "execution_count": 16,
     "metadata": {},
     "output_type": "execute_result"
    }
   ],
   "source": [
    "s[-3]"
   ]
  },
  {
   "cell_type": "code",
   "execution_count": 17,
   "id": "7ddef599-9920-4011-ab43-2ac0d05b7e18",
   "metadata": {},
   "outputs": [
    {
     "data": {
      "text/plain": [
       "'k'"
      ]
     },
     "execution_count": 17,
     "metadata": {},
     "output_type": "execute_result"
    }
   ],
   "source": [
    "s[-5]"
   ]
  },
  {
   "cell_type": "code",
   "execution_count": 18,
   "id": "9919d24b-1e18-4f51-85c2-5e5f6bda804b",
   "metadata": {},
   "outputs": [
    {
     "ename": "NameError",
     "evalue": "name 'p' is not defined",
     "output_type": "error",
     "traceback": [
      "\u001b[0;31m---------------------------------------------------------------------------\u001b[0m",
      "\u001b[0;31mNameError\u001b[0m                                 Traceback (most recent call last)",
      "Cell \u001b[0;32mIn[18], line 1\u001b[0m\n\u001b[0;32m----> 1\u001b[0m \u001b[43mp\u001b[49m[\u001b[38;5;241m0\u001b[39m\u001b[38;5;241m-\u001b[39m\u001b[38;5;241m2\u001b[39m]\n",
      "\u001b[0;31mNameError\u001b[0m: name 'p' is not defined"
     ]
    }
   ],
   "source": [
    "p[0-2]"
   ]
  },
  {
   "cell_type": "code",
   "execution_count": 19,
   "id": "d4040a79-7efe-41cd-9f22-6f8a495f05a3",
   "metadata": {},
   "outputs": [
    {
     "ename": "NameError",
     "evalue": "name 'p' is not defined",
     "output_type": "error",
     "traceback": [
      "\u001b[0;31m---------------------------------------------------------------------------\u001b[0m",
      "\u001b[0;31mNameError\u001b[0m                                 Traceback (most recent call last)",
      "Cell \u001b[0;32mIn[19], line 1\u001b[0m\n\u001b[0;32m----> 1\u001b[0m \u001b[43mp\u001b[49m[\u001b[38;5;241m0\u001b[39m,\u001b[38;5;241m2\u001b[39m]\n",
      "\u001b[0;31mNameError\u001b[0m: name 'p' is not defined"
     ]
    }
   ],
   "source": [
    "p[0,2]"
   ]
  },
  {
   "cell_type": "code",
   "execution_count": 20,
   "id": "b488f08b-922d-4906-87e6-5a50d7364ee3",
   "metadata": {},
   "outputs": [
    {
     "data": {
      "text/plain": [
       "'pw'"
      ]
     },
     "execution_count": 20,
     "metadata": {},
     "output_type": "execute_result"
    }
   ],
   "source": [
    "s[0:2]"
   ]
  },
  {
   "cell_type": "code",
   "execution_count": 21,
   "id": "3cdd96e0-ea27-4ae4-ab0f-a99e8fcfa797",
   "metadata": {},
   "outputs": [
    {
     "data": {
      "text/plain": [
       "'pwsk'"
      ]
     },
     "execution_count": 21,
     "metadata": {},
     "output_type": "execute_result"
    }
   ],
   "source": [
    "s[0:4]"
   ]
  },
  {
   "cell_type": "code",
   "execution_count": 22,
   "id": "1b890de3-6f0a-4786-8316-9aa9c34dc7d9",
   "metadata": {},
   "outputs": [
    {
     "data": {
      "text/plain": [
       "'psil'"
      ]
     },
     "execution_count": 22,
     "metadata": {},
     "output_type": "execute_result"
    }
   ],
   "source": [
    "s[0:8:2]"
   ]
  },
  {
   "cell_type": "code",
   "execution_count": 23,
   "id": "3698a816-93b2-4d00-92e9-f28c0a555c91",
   "metadata": {},
   "outputs": [
    {
     "data": {
      "text/plain": [
       "'psil'"
      ]
     },
     "execution_count": 23,
     "metadata": {},
     "output_type": "execute_result"
    }
   ],
   "source": [
    "s[::2]\n"
   ]
  },
  {
   "cell_type": "code",
   "execution_count": 24,
   "id": "e83e38f5-1593-4953-96f7-0fa70d7f7c5f",
   "metadata": {},
   "outputs": [
    {
     "data": {
      "text/plain": [
       "'wkls'"
      ]
     },
     "execution_count": 24,
     "metadata": {},
     "output_type": "execute_result"
    }
   ],
   "source": [
    "s[1::2]"
   ]
  },
  {
   "cell_type": "code",
   "execution_count": 25,
   "id": "f02a9a58-7a2e-454b-bd43-7ba7ca0a42c1",
   "metadata": {},
   "outputs": [
    {
     "data": {
      "text/plain": [
       "'s'"
      ]
     },
     "execution_count": 25,
     "metadata": {},
     "output_type": "execute_result"
    }
   ],
   "source": [
    "s[-1::2]"
   ]
  },
  {
   "cell_type": "code",
   "execution_count": 26,
   "id": "7cc103fc-38f6-4222-9649-8344c02fb2fe",
   "metadata": {},
   "outputs": [
    {
     "data": {
      "text/plain": [
       "'sllikswp'"
      ]
     },
     "execution_count": 26,
     "metadata": {},
     "output_type": "execute_result"
    }
   ],
   "source": [
    "s[::-1]"
   ]
  },
  {
   "cell_type": "code",
   "execution_count": 27,
   "id": "d6a21671-c1a2-4cd9-99ce-244e78c15bf7",
   "metadata": {},
   "outputs": [
    {
     "data": {
      "text/plain": [
       "''"
      ]
     },
     "execution_count": 27,
     "metadata": {},
     "output_type": "execute_result"
    }
   ],
   "source": [
    "s[2:7:-1]"
   ]
  },
  {
   "cell_type": "code",
   "execution_count": 28,
   "id": "56f3de23-8d2b-4188-9a31-02cf013d75a6",
   "metadata": {},
   "outputs": [
    {
     "data": {
      "text/plain": [
       "'sllik'"
      ]
     },
     "execution_count": 28,
     "metadata": {},
     "output_type": "execute_result"
    }
   ],
   "source": [
    "s[7:2:-1]"
   ]
  },
  {
   "cell_type": "code",
   "execution_count": 29,
   "id": "67511b63-a9ec-4f34-a580-ff2294be6dd6",
   "metadata": {},
   "outputs": [
    {
     "data": {
      "text/plain": [
       "'slliksw'"
      ]
     },
     "execution_count": 29,
     "metadata": {},
     "output_type": "execute_result"
    }
   ],
   "source": [
    "s[8:0:-1]"
   ]
  },
  {
   "cell_type": "code",
   "execution_count": 30,
   "id": "68d2b3f1-0d8f-412f-8048-d056eabc68b3",
   "metadata": {},
   "outputs": [
    {
     "data": {
      "text/plain": [
       "''"
      ]
     },
     "execution_count": 30,
     "metadata": {},
     "output_type": "execute_result"
    }
   ],
   "source": [
    "s[8:-1:-1]"
   ]
  },
  {
   "cell_type": "code",
   "execution_count": 31,
   "id": "3f5fc157-4173-4778-a544-69e366b61b28",
   "metadata": {},
   "outputs": [
    {
     "data": {
      "text/plain": [
       "'sllikswp'"
      ]
     },
     "execution_count": 31,
     "metadata": {},
     "output_type": "execute_result"
    }
   ],
   "source": [
    "s[8::-1]"
   ]
  },
  {
   "cell_type": "code",
   "execution_count": 1,
   "id": "7e0216d0-ba69-4b80-a96b-bc6cb3580641",
   "metadata": {},
   "outputs": [
    {
     "ename": "NameError",
     "evalue": "name 's' is not defined",
     "output_type": "error",
     "traceback": [
      "\u001b[0;31m---------------------------------------------------------------------------\u001b[0m",
      "\u001b[0;31mNameError\u001b[0m                                 Traceback (most recent call last)",
      "Cell \u001b[0;32mIn[1], line 1\u001b[0m\n\u001b[0;32m----> 1\u001b[0m \u001b[43ms\u001b[49m[\u001b[38;5;241m90\u001b[39m]\n",
      "\u001b[0;31mNameError\u001b[0m: name 's' is not defined"
     ]
    }
   ],
   "source": [
    "s[90]\n"
   ]
  },
  {
   "cell_type": "code",
   "execution_count": 8,
   "id": "ba1661af-d99f-4170-91a7-043720143213",
   "metadata": {},
   "outputs": [
    {
     "ename": "NameError",
     "evalue": "name 's' is not defined",
     "output_type": "error",
     "traceback": [
      "\u001b[0;31m---------------------------------------------------------------------------\u001b[0m",
      "\u001b[0;31mNameError\u001b[0m                                 Traceback (most recent call last)",
      "Cell \u001b[0;32mIn[8], line 1\u001b[0m\n\u001b[0;32m----> 1\u001b[0m \u001b[43ms\u001b[49m[:\u001b[38;5;241m-\u001b[39m\u001b[38;5;241m90\u001b[39m:\u001b[38;5;241m-\u001b[39m\u001b[38;5;241m1\u001b[39m]\n",
      "\u001b[0;31mNameError\u001b[0m: name 's' is not defined"
     ]
    }
   ],
   "source": [
    "s[:-90:-1]"
   ]
  },
  {
   "cell_type": "code",
   "execution_count": 9,
   "id": "c7508742-fa7f-4aa8-adce-d1d7836d92ad",
   "metadata": {},
   "outputs": [],
   "source": [
    "s1 = \"This is my first programming language\""
   ]
  },
  {
   "cell_type": "code",
   "execution_count": 10,
   "id": "826ed7ee-6237-480f-91ed-8869bbc5df3d",
   "metadata": {},
   "outputs": [
    {
     "data": {
      "text/plain": [
       "37"
      ]
     },
     "execution_count": 10,
     "metadata": {},
     "output_type": "execute_result"
    }
   ],
   "source": [
    "len(s1)"
   ]
  },
  {
   "cell_type": "code",
   "execution_count": 12,
   "id": "35fa60bd-6c79-452a-86d0-be724dceba21",
   "metadata": {},
   "outputs": [
    {
     "data": {
      "text/plain": [
       "3"
      ]
     },
     "execution_count": 12,
     "metadata": {},
     "output_type": "execute_result"
    }
   ],
   "source": [
    "s1.find(\"s\")"
   ]
  },
  {
   "cell_type": "code",
   "execution_count": 16,
   "id": "7c0bdb51-3bf8-43b9-b9ba-959fe401ecd3",
   "metadata": {},
   "outputs": [
    {
     "data": {
      "text/plain": [
       "0"
      ]
     },
     "execution_count": 16,
     "metadata": {},
     "output_type": "execute_result"
    }
   ],
   "source": [
    "s1.count(\"are\")"
   ]
  },
  {
   "cell_type": "code",
   "execution_count": 18,
   "id": "a6de8466-0465-4f5c-af1d-3bccdc9a5779",
   "metadata": {},
   "outputs": [
    {
     "data": {
      "text/plain": [
       "'THIS IS MY FIRST PROGRAMMING LANGUAGE'"
      ]
     },
     "execution_count": 18,
     "metadata": {},
     "output_type": "execute_result"
    }
   ],
   "source": [
    "s1.upper()"
   ]
  },
  {
   "cell_type": "code",
   "execution_count": 19,
   "id": "8a9848e3-ac8d-4c20-9021-1f4e93e529e6",
   "metadata": {},
   "outputs": [
    {
     "data": {
      "text/plain": [
       "'this is my first programming language'"
      ]
     },
     "execution_count": 19,
     "metadata": {},
     "output_type": "execute_result"
    }
   ],
   "source": [
    "s1.lower()"
   ]
  },
  {
   "cell_type": "code",
   "execution_count": 20,
   "id": "d8e44345-ae7a-49f4-a000-87d0598ea6bf",
   "metadata": {},
   "outputs": [
    {
     "data": {
      "text/plain": [
       "'This is my first programming language'"
      ]
     },
     "execution_count": 20,
     "metadata": {},
     "output_type": "execute_result"
    }
   ],
   "source": [
    "s1.capitalize()"
   ]
  },
  {
   "cell_type": "code",
   "execution_count": 21,
   "id": "e54df2df-3f91-4b47-9344-96f4617b1593",
   "metadata": {},
   "outputs": [
    {
     "ename": "TypeError",
     "evalue": "can only concatenate str (not \"int\") to str",
     "output_type": "error",
     "traceback": [
      "\u001b[0;31m---------------------------------------------------------------------------\u001b[0m",
      "\u001b[0;31mTypeError\u001b[0m                                 Traceback (most recent call last)",
      "Cell \u001b[0;32mIn[21], line 1\u001b[0m\n\u001b[0;32m----> 1\u001b[0m \u001b[43ms1\u001b[49m\u001b[38;5;241;43m+\u001b[39;49m\u001b[38;5;241;43m1\u001b[39;49m\n",
      "\u001b[0;31mTypeError\u001b[0m: can only concatenate str (not \"int\") to str"
     ]
    }
   ],
   "source": [
    "s1+1"
   ]
  },
  {
   "cell_type": "code",
   "execution_count": 22,
   "id": "0470be0b-88cd-4974-842d-3abee4630ee4",
   "metadata": {},
   "outputs": [
    {
     "data": {
      "text/plain": [
       "'This is my first programming languagei am very happy'"
      ]
     },
     "execution_count": 22,
     "metadata": {},
     "output_type": "execute_result"
    }
   ],
   "source": [
    "s1+ \"i am very happy\""
   ]
  },
  {
   "cell_type": "code",
   "execution_count": 24,
   "id": "da79d37f-5aec-4ddc-9eaa-a87e485c3049",
   "metadata": {},
   "outputs": [
    {
     "data": {
      "text/plain": [
       "'This is my first programming language 4'"
      ]
     },
     "execution_count": 24,
     "metadata": {},
     "output_type": "execute_result"
    }
   ],
   "source": [
    "s1+ str(\" 4\")"
   ]
  },
  {
   "cell_type": "code",
   "execution_count": 25,
   "id": "ce1643da-bf9f-4777-a52c-8388c8204397",
   "metadata": {},
   "outputs": [
    {
     "data": {
      "text/plain": [
       "'This is my first programming languageThis is my first programming languageThis is my first programming language'"
      ]
     },
     "execution_count": 25,
     "metadata": {},
     "output_type": "execute_result"
    }
   ],
   "source": [
    "s1*3"
   ]
  },
  {
   "cell_type": "code",
   "execution_count": 26,
   "id": "f04f7bb0-6dc0-4aba-a09c-9b48510c621b",
   "metadata": {},
   "outputs": [
    {
     "ename": "TypeError",
     "evalue": "unsupported operand type(s) for /: 'str' and 'int'",
     "output_type": "error",
     "traceback": [
      "\u001b[0;31m---------------------------------------------------------------------------\u001b[0m",
      "\u001b[0;31mTypeError\u001b[0m                                 Traceback (most recent call last)",
      "Cell \u001b[0;32mIn[26], line 1\u001b[0m\n\u001b[0;32m----> 1\u001b[0m \u001b[43ms1\u001b[49m\u001b[38;5;241;43m/\u001b[39;49m\u001b[38;5;241;43m3\u001b[39;49m\n",
      "\u001b[0;31mTypeError\u001b[0m: unsupported operand type(s) for /: 'str' and 'int'"
     ]
    }
   ],
   "source": [
    "s1/3"
   ]
  },
  {
   "cell_type": "code",
   "execution_count": 1,
   "id": "90d2136a-cb1c-42d6-bc44-95f2c8055e19",
   "metadata": {},
   "outputs": [
    {
     "data": {
      "text/plain": [
       "'we have live our life, and experience it'"
      ]
     },
     "execution_count": 1,
     "metadata": {},
     "output_type": "execute_result"
    }
   ],
   "source": [
    "'we have live our life, and experience it'"
   ]
  },
  {
   "cell_type": "code",
   "execution_count": 2,
   "id": "790b81ba-0b46-408d-b860-43bee9f74453",
   "metadata": {},
   "outputs": [
    {
     "data": {
      "text/plain": [
       "'we have live our life, and experience it'"
      ]
     },
     "execution_count": 2,
     "metadata": {},
     "output_type": "execute_result"
    }
   ],
   "source": [
    "\"we have live our life, and experience it\""
   ]
  },
  {
   "cell_type": "code",
   "execution_count": 3,
   "id": "40ecf1b8-2f9c-4f0a-8822-342cf48ac391",
   "metadata": {},
   "outputs": [],
   "source": [
    "##we have live our life, and experience it"
   ]
  },
  {
   "cell_type": "code",
   "execution_count": 4,
   "id": "19f852ec-3e81-46c4-bc06-50a7113990e9",
   "metadata": {},
   "outputs": [],
   "source": [
    "#we have live our life, and experience it"
   ]
  },
  {
   "cell_type": "code",
   "execution_count": 6,
   "id": "998158af-67c3-4895-ac5e-5a5f31034f0a",
   "metadata": {},
   "outputs": [
    {
     "data": {
      "text/plain": [
       "'we have live our life, and experience it\\nwe have live our life, and experience it\\nwe have live our life, and experience it\\nwe have live our life, and experience it'"
      ]
     },
     "execution_count": 6,
     "metadata": {},
     "output_type": "execute_result"
    }
   ],
   "source": [
    "\"\"\"we have live our life, and experience it\n",
    "we have live our life, and experience it\n",
    "we have live our life, and experience it\n",
    "we have live our life, and experience it\"\"\""
   ]
  },
  {
   "cell_type": "code",
   "execution_count": 7,
   "id": "8cff8549-1704-4197-a66a-2aa984a38625",
   "metadata": {},
   "outputs": [],
   "source": [
    "# we have live our life, and experience it\n",
    "# we have live our life, and experience it\n",
    "# we have live our life, and experience it\n",
    "# we have live our life, and experience it"
   ]
  },
  {
   "cell_type": "code",
   "execution_count": 9,
   "id": "64188a03-fb67-4f20-80f3-499fa2f3ef46",
   "metadata": {},
   "outputs": [],
   "source": [
    "m=\"we have live our life \""
   ]
  },
  {
   "cell_type": "code",
   "execution_count": 13,
   "id": "ded853f2-8e89-42e8-8326-6be5f503a872",
   "metadata": {},
   "outputs": [
    {
     "data": {
      "text/plain": [
       "'we have live our lifewe have live our lifewe have live our life'"
      ]
     },
     "execution_count": 13,
     "metadata": {},
     "output_type": "execute_result"
    }
   ],
   "source": [
    "m*3"
   ]
  },
  {
   "cell_type": "code",
   "execution_count": 14,
   "id": "bc85a26f-9353-4f3d-90fd-a39c1028cb97",
   "metadata": {},
   "outputs": [],
   "source": [
    "a=5\n",
    "c=6\n"
   ]
  },
  {
   "cell_type": "code",
   "execution_count": 15,
   "id": "ed580819-394d-49d4-9b02-205243204871",
   "metadata": {},
   "outputs": [],
   "source": [
    "b=a*c"
   ]
  },
  {
   "cell_type": "code",
   "execution_count": 16,
   "id": "4285e66c-1ff1-4090-b043-57000e959131",
   "metadata": {},
   "outputs": [],
   "source": [
    "a=5"
   ]
  },
  {
   "cell_type": "code",
   "execution_count": 17,
   "id": "a543112d-a9db-43c1-964b-1c32a46103e7",
   "metadata": {},
   "outputs": [],
   "source": [
    "b=6"
   ]
  },
  {
   "cell_type": "code",
   "execution_count": 18,
   "id": "ed7907da-c34b-440c-81ae-48a115d5ba7f",
   "metadata": {},
   "outputs": [],
   "source": [
    "c=a*b"
   ]
  },
  {
   "cell_type": "code",
   "execution_count": 19,
   "id": "8bf42dba-66ce-401b-8c04-32ff5b311f03",
   "metadata": {},
   "outputs": [
    {
     "name": "stdout",
     "output_type": "stream",
     "text": [
      "c\n"
     ]
    }
   ],
   "source": []
  },
  {
   "cell_type": "code",
   "execution_count": 20,
   "id": "e0f01a9b-e5b3-4704-8d95-1ad39e798dc8",
   "metadata": {},
   "outputs": [],
   "source": [
    "c = a*b"
   ]
  },
  {
   "cell_type": "code",
   "execution_count": 21,
   "id": "11511727-b152-4d6f-8b1c-26cf3606080a",
   "metadata": {},
   "outputs": [],
   "source": [
    "a= 5"
   ]
  },
  {
   "cell_type": "code",
   "execution_count": 22,
   "id": "7f050a0d-e4dd-4d09-a09c-6ee69cc646e2",
   "metadata": {},
   "outputs": [],
   "source": [
    "b= 6"
   ]
  },
  {
   "cell_type": "code",
   "execution_count": 23,
   "id": "6c6cd3fd-f631-41e9-afe1-ba3012a6d26b",
   "metadata": {},
   "outputs": [],
   "source": [
    "c= a*b"
   ]
  },
  {
   "cell_type": "code",
   "execution_count": 24,
   "id": "19fbd228-205c-4f44-8d5b-c241e81ceb6c",
   "metadata": {},
   "outputs": [],
   "source": [
    "a=5"
   ]
  },
  {
   "cell_type": "code",
   "execution_count": 25,
   "id": "a22d02f2-b489-40c3-818f-258c6951a926",
   "metadata": {},
   "outputs": [
    {
     "data": {
      "text/plain": [
       "5"
      ]
     },
     "execution_count": 25,
     "metadata": {},
     "output_type": "execute_result"
    }
   ],
   "source": [
    "a"
   ]
  },
  {
   "cell_type": "code",
   "execution_count": 26,
   "id": "9f1e2e33-d707-43af-9dc9-da8cd3febe60",
   "metadata": {},
   "outputs": [],
   "source": [
    "b=10"
   ]
  },
  {
   "cell_type": "code",
   "execution_count": 27,
   "id": "43e70580-c61f-407b-8dc6-411924ea4623",
   "metadata": {},
   "outputs": [
    {
     "data": {
      "text/plain": [
       "10"
      ]
     },
     "execution_count": 27,
     "metadata": {},
     "output_type": "execute_result"
    }
   ],
   "source": [
    "b"
   ]
  },
  {
   "cell_type": "code",
   "execution_count": 28,
   "id": "437879ad-6176-4a25-a452-99d5ce590f37",
   "metadata": {},
   "outputs": [],
   "source": [
    "c=a*b"
   ]
  },
  {
   "cell_type": "code",
   "execution_count": 29,
   "id": "f06d9b70-5e64-4bdc-8b25-d17196d498c6",
   "metadata": {},
   "outputs": [
    {
     "data": {
      "text/plain": [
       "50"
      ]
     },
     "execution_count": 29,
     "metadata": {},
     "output_type": "execute_result"
    }
   ],
   "source": [
    "c"
   ]
  },
  {
   "cell_type": "code",
   "execution_count": 30,
   "id": "916d8d29-d666-45ae-b6b6-471f33bacc2e",
   "metadata": {},
   "outputs": [],
   "source": [
    "a=4"
   ]
  },
  {
   "cell_type": "code",
   "execution_count": 31,
   "id": "a48fd98f-f299-4865-9e5b-bf8746c451b0",
   "metadata": {},
   "outputs": [],
   "source": [
    "b=5"
   ]
  },
  {
   "cell_type": "code",
   "execution_count": 32,
   "id": "6c64b7f2-533b-4169-82ca-1e1b03a3f600",
   "metadata": {},
   "outputs": [],
   "source": [
    "c=a*b"
   ]
  },
  {
   "cell_type": "code",
   "execution_count": 33,
   "id": "c42f7bbf-3d3d-40f9-ae24-6c57b2e97e45",
   "metadata": {},
   "outputs": [
    {
     "data": {
      "text/plain": [
       "20"
      ]
     },
     "execution_count": 33,
     "metadata": {},
     "output_type": "execute_result"
    }
   ],
   "source": [
    "c"
   ]
  },
  {
   "cell_type": "code",
   "execution_count": 2,
   "id": "08c2d6f3-6f68-4204-a061-d5c0da596e0f",
   "metadata": {},
   "outputs": [],
   "source": [
    "l=[23,34,35, \"you\", \"are\", True, 3+4j, 3422.45]"
   ]
  },
  {
   "cell_type": "code",
   "execution_count": 3,
   "id": "a52e73d5-ea68-40f6-903c-a57a54039ccf",
   "metadata": {},
   "outputs": [
    {
     "data": {
      "text/plain": [
       "[23, 34, 35, 'you', 'are', True, (3+4j), 3422.45]"
      ]
     },
     "execution_count": 3,
     "metadata": {},
     "output_type": "execute_result"
    }
   ],
   "source": [
    "list(l)"
   ]
  },
  {
   "cell_type": "code",
   "execution_count": 4,
   "id": "263fac3f-4ab9-45b0-9809-9df23e02b8d3",
   "metadata": {},
   "outputs": [
    {
     "data": {
      "text/plain": [
       "list"
      ]
     },
     "execution_count": 4,
     "metadata": {},
     "output_type": "execute_result"
    }
   ],
   "source": [
    "type(l)"
   ]
  },
  {
   "cell_type": "code",
   "execution_count": 5,
   "id": "227bb8b6-9539-44a1-894d-9cd8524c55f9",
   "metadata": {},
   "outputs": [
    {
     "data": {
      "text/plain": [
       "[23, 34, 35]"
      ]
     },
     "execution_count": 5,
     "metadata": {},
     "output_type": "execute_result"
    }
   ],
   "source": [
    "l[0:3]"
   ]
  },
  {
   "cell_type": "code",
   "execution_count": 6,
   "id": "ec380c83-3804-4611-b55b-779d2e3d9999",
   "metadata": {},
   "outputs": [
    {
     "data": {
      "text/plain": [
       "'are'"
      ]
     },
     "execution_count": 6,
     "metadata": {},
     "output_type": "execute_result"
    }
   ],
   "source": [
    "l[4]"
   ]
  },
  {
   "cell_type": "code",
   "execution_count": 7,
   "id": "c624d161-db78-45b5-a632-9f143e0dce48",
   "metadata": {},
   "outputs": [
    {
     "data": {
      "text/plain": [
       "0"
      ]
     },
     "execution_count": 7,
     "metadata": {},
     "output_type": "execute_result"
    }
   ],
   "source": [
    "l.count(l)"
   ]
  },
  {
   "cell_type": "code",
   "execution_count": 8,
   "id": "8ff773b9-757a-431c-8bec-3cd8b96b65bc",
   "metadata": {},
   "outputs": [
    {
     "ename": "NameError",
     "evalue": "name 't' is not defined",
     "output_type": "error",
     "traceback": [
      "\u001b[0;31m---------------------------------------------------------------------------\u001b[0m",
      "\u001b[0;31mNameError\u001b[0m                                 Traceback (most recent call last)",
      "Cell \u001b[0;32mIn[8], line 1\u001b[0m\n\u001b[0;32m----> 1\u001b[0m l\u001b[38;5;241m.\u001b[39mcount(\u001b[43mt\u001b[49m)\n",
      "\u001b[0;31mNameError\u001b[0m: name 't' is not defined"
     ]
    }
   ],
   "source": [
    "l.count(t)"
   ]
  },
  {
   "cell_type": "code",
   "execution_count": 9,
   "id": "b7db0b68-dfa7-4c52-a729-34737958e6e3",
   "metadata": {},
   "outputs": [
    {
     "ename": "NameError",
     "evalue": "name 'T' is not defined",
     "output_type": "error",
     "traceback": [
      "\u001b[0;31m---------------------------------------------------------------------------\u001b[0m",
      "\u001b[0;31mNameError\u001b[0m                                 Traceback (most recent call last)",
      "Cell \u001b[0;32mIn[9], line 1\u001b[0m\n\u001b[0;32m----> 1\u001b[0m l\u001b[38;5;241m.\u001b[39mcount(\u001b[43mT\u001b[49m)\n",
      "\u001b[0;31mNameError\u001b[0m: name 'T' is not defined"
     ]
    }
   ],
   "source": [
    "l.count(T)"
   ]
  },
  {
   "cell_type": "code",
   "execution_count": 10,
   "id": "5431c404-fecf-4580-86c8-f73b0a48b996",
   "metadata": {},
   "outputs": [
    {
     "ename": "NameError",
     "evalue": "name 'true' is not defined",
     "output_type": "error",
     "traceback": [
      "\u001b[0;31m---------------------------------------------------------------------------\u001b[0m",
      "\u001b[0;31mNameError\u001b[0m                                 Traceback (most recent call last)",
      "Cell \u001b[0;32mIn[10], line 1\u001b[0m\n\u001b[0;32m----> 1\u001b[0m l\u001b[38;5;241m.\u001b[39mcount(\u001b[43mtrue\u001b[49m)\n",
      "\u001b[0;31mNameError\u001b[0m: name 'true' is not defined"
     ]
    }
   ],
   "source": [
    "l.count(true)"
   ]
  },
  {
   "cell_type": "code",
   "execution_count": 11,
   "id": "6e3e19dd-002a-496e-9fbe-a8f0396420b3",
   "metadata": {},
   "outputs": [
    {
     "data": {
      "text/plain": [
       "1"
      ]
     },
     "execution_count": 11,
     "metadata": {},
     "output_type": "execute_result"
    }
   ],
   "source": [
    "l.count(True)"
   ]
  },
  {
   "cell_type": "code",
   "execution_count": 12,
   "id": "32bd8ae7-443d-411b-b584-e60543240b96",
   "metadata": {},
   "outputs": [
    {
     "ename": "SyntaxError",
     "evalue": "invalid decimal literal (317273645.py, line 1)",
     "output_type": "error",
     "traceback": [
      "\u001b[0;36m  Cell \u001b[0;32mIn[12], line 1\u001b[0;36m\u001b[0m\n\u001b[0;31m    1.find(r)\u001b[0m\n\u001b[0m     ^\u001b[0m\n\u001b[0;31mSyntaxError\u001b[0m\u001b[0;31m:\u001b[0m invalid decimal literal\n"
     ]
    }
   ],
   "source": [
    "1.find(r)"
   ]
  },
  {
   "cell_type": "code",
   "execution_count": 13,
   "id": "2ba0a588-eb76-4e88-bc60-c856011db882",
   "metadata": {},
   "outputs": [
    {
     "ename": "AttributeError",
     "evalue": "'list' object has no attribute 'find'",
     "output_type": "error",
     "traceback": [
      "\u001b[0;31m---------------------------------------------------------------------------\u001b[0m",
      "\u001b[0;31mAttributeError\u001b[0m                            Traceback (most recent call last)",
      "Cell \u001b[0;32mIn[13], line 1\u001b[0m\n\u001b[0;32m----> 1\u001b[0m \u001b[43ml\u001b[49m\u001b[38;5;241;43m.\u001b[39;49m\u001b[43mfind\u001b[49m(r)\n",
      "\u001b[0;31mAttributeError\u001b[0m: 'list' object has no attribute 'find'"
     ]
    }
   ],
   "source": [
    "l.find(r)"
   ]
  },
  {
   "cell_type": "code",
   "execution_count": 14,
   "id": "e51ccb17-c5d1-4d3c-8704-6a9988082bdd",
   "metadata": {},
   "outputs": [
    {
     "ename": "AttributeError",
     "evalue": "'list' object has no attribute 'find'",
     "output_type": "error",
     "traceback": [
      "\u001b[0;31m---------------------------------------------------------------------------\u001b[0m",
      "\u001b[0;31mAttributeError\u001b[0m                            Traceback (most recent call last)",
      "Cell \u001b[0;32mIn[14], line 1\u001b[0m\n\u001b[0;32m----> 1\u001b[0m \u001b[43ml\u001b[49m\u001b[38;5;241;43m.\u001b[39;49m\u001b[43mfind\u001b[49m(are)\n",
      "\u001b[0;31mAttributeError\u001b[0m: 'list' object has no attribute 'find'"
     ]
    }
   ],
   "source": [
    "l.find(are)"
   ]
  },
  {
   "cell_type": "code",
   "execution_count": 15,
   "id": "3481140c-5ad6-469a-9848-dcb95c153f08",
   "metadata": {},
   "outputs": [
    {
     "ename": "AttributeError",
     "evalue": "'list' object has no attribute 'find'",
     "output_type": "error",
     "traceback": [
      "\u001b[0;31m---------------------------------------------------------------------------\u001b[0m",
      "\u001b[0;31mAttributeError\u001b[0m                            Traceback (most recent call last)",
      "Cell \u001b[0;32mIn[15], line 1\u001b[0m\n\u001b[0;32m----> 1\u001b[0m \u001b[43ml\u001b[49m\u001b[38;5;241;43m.\u001b[39;49m\u001b[43mfind\u001b[49m(\u001b[38;5;241m23\u001b[39m)\n",
      "\u001b[0;31mAttributeError\u001b[0m: 'list' object has no attribute 'find'"
     ]
    }
   ],
   "source": [
    "l.find(23)"
   ]
  },
  {
   "cell_type": "code",
   "execution_count": 16,
   "id": "7ebf5853-c19a-437c-9f60-6cb1b41212a7",
   "metadata": {},
   "outputs": [
    {
     "data": {
      "text/plain": [
       "[3422.45, (3+4j), True, 'are', 'you', 35, 34, 23]"
      ]
     },
     "execution_count": 16,
     "metadata": {},
     "output_type": "execute_result"
    }
   ],
   "source": [
    "l[::-1]"
   ]
  },
  {
   "cell_type": "code",
   "execution_count": 17,
   "id": "46611da3-b0ca-479c-a228-61d0bb4e35ee",
   "metadata": {},
   "outputs": [
    {
     "data": {
      "text/plain": [
       "[23, 34, 35, 'you', 'are', True, (3+4j), 3422.45]"
      ]
     },
     "execution_count": 17,
     "metadata": {},
     "output_type": "execute_result"
    }
   ],
   "source": [
    "l[0:100:1]"
   ]
  },
  {
   "cell_type": "code",
   "execution_count": 18,
   "id": "164fcf4d-38a8-4ef1-ad9f-43587f5dbfa1",
   "metadata": {},
   "outputs": [
    {
     "data": {
      "text/plain": [
       "[23, 35, 'are', (3+4j)]"
      ]
     },
     "execution_count": 18,
     "metadata": {},
     "output_type": "execute_result"
    }
   ],
   "source": [
    "l[0:100:2]"
   ]
  },
  {
   "cell_type": "code",
   "execution_count": 19,
   "id": "f6a51511-3ec5-429e-94b5-05b013336367",
   "metadata": {},
   "outputs": [
    {
     "data": {
      "text/plain": [
       "[34, 'you', True, 3422.45]"
      ]
     },
     "execution_count": 19,
     "metadata": {},
     "output_type": "execute_result"
    }
   ],
   "source": [
    "l[1:100:2]"
   ]
  },
  {
   "cell_type": "code",
   "execution_count": 1,
   "id": "bd243791-68c1-4bc3-bc90-90727e2eacbd",
   "metadata": {},
   "outputs": [
    {
     "ename": "NameError",
     "evalue": "name 'l' is not defined",
     "output_type": "error",
     "traceback": [
      "\u001b[0;31m---------------------------------------------------------------------------\u001b[0m",
      "\u001b[0;31mNameError\u001b[0m                                 Traceback (most recent call last)",
      "Cell \u001b[0;32mIn[1], line 1\u001b[0m\n\u001b[0;32m----> 1\u001b[0m \u001b[43ml\u001b[49m[\u001b[38;5;241m0\u001b[39m:\u001b[38;5;241m2\u001b[39m]\n",
      "\u001b[0;31mNameError\u001b[0m: name 'l' is not defined"
     ]
    }
   ],
   "source": [
    "l[0:2]"
   ]
  },
  {
   "cell_type": "code",
   "execution_count": 2,
   "id": "4a8ac715-0019-478d-9161-92cb6a20d218",
   "metadata": {},
   "outputs": [
    {
     "ename": "NameError",
     "evalue": "name 'l' is not defined",
     "output_type": "error",
     "traceback": [
      "\u001b[0;31m---------------------------------------------------------------------------\u001b[0m",
      "\u001b[0;31mNameError\u001b[0m                                 Traceback (most recent call last)",
      "Cell \u001b[0;32mIn[2], line 1\u001b[0m\n\u001b[0;32m----> 1\u001b[0m \u001b[43ml\u001b[49m\n",
      "\u001b[0;31mNameError\u001b[0m: name 'l' is not defined"
     ]
    }
   ],
   "source": [
    "l"
   ]
  },
  {
   "cell_type": "code",
   "execution_count": 3,
   "id": "22a58eef-a28c-4589-b9ba-d182fb4434f9",
   "metadata": {},
   "outputs": [],
   "source": [
    "l=[23,34,35, \"you\", \"are\", True, 3+4j, 3422.45]"
   ]
  },
  {
   "cell_type": "code",
   "execution_count": 4,
   "id": "7749ddde-7de5-43f9-b09e-019d3dec8110",
   "metadata": {},
   "outputs": [
    {
     "data": {
      "text/plain": [
       "[23, 34, 35, 'you', 'are', True, (3+4j), 3422.45]"
      ]
     },
     "execution_count": 4,
     "metadata": {},
     "output_type": "execute_result"
    }
   ],
   "source": [
    "l"
   ]
  },
  {
   "cell_type": "code",
   "execution_count": 5,
   "id": "cba394f9-3266-4419-b648-219e6baaf1ae",
   "metadata": {},
   "outputs": [
    {
     "data": {
      "text/plain": [
       "[23, 34]"
      ]
     },
     "execution_count": 5,
     "metadata": {},
     "output_type": "execute_result"
    }
   ],
   "source": [
    "l[0:2]"
   ]
  },
  {
   "cell_type": "code",
   "execution_count": 6,
   "id": "22538d90-e1a0-459d-a6ab-62db4e12ffa5",
   "metadata": {},
   "outputs": [
    {
     "data": {
      "text/plain": [
       "3422.45"
      ]
     },
     "execution_count": 6,
     "metadata": {},
     "output_type": "execute_result"
    }
   ],
   "source": [
    "l[-1]"
   ]
  },
  {
   "cell_type": "code",
   "execution_count": 7,
   "id": "81a18353-9e34-4139-89a5-33ed05282c95",
   "metadata": {},
   "outputs": [
    {
     "data": {
      "text/plain": [
       "[3422.45, (3+4j), True, 'are', 'you', 35, 34, 23]"
      ]
     },
     "execution_count": 7,
     "metadata": {},
     "output_type": "execute_result"
    }
   ],
   "source": [
    "l[::-1]"
   ]
  },
  {
   "cell_type": "code",
   "execution_count": 8,
   "id": "a4a94122-d785-4ce7-85cf-2687bff23421",
   "metadata": {},
   "outputs": [
    {
     "data": {
      "text/plain": [
       "[34, 35, 'you', 'are', True, (3+4j), 3422.45]"
      ]
     },
     "execution_count": 8,
     "metadata": {},
     "output_type": "execute_result"
    }
   ],
   "source": [
    "l[1::1]"
   ]
  },
  {
   "cell_type": "code",
   "execution_count": 9,
   "id": "c0407103-f041-4266-9f64-591e3be496b3",
   "metadata": {},
   "outputs": [
    {
     "data": {
      "text/plain": [
       "[23, 35, 'are', (3+4j)]"
      ]
     },
     "execution_count": 9,
     "metadata": {},
     "output_type": "execute_result"
    }
   ],
   "source": [
    "l[::2]"
   ]
  },
  {
   "cell_type": "code",
   "execution_count": 10,
   "id": "4dd76551-ec54-4611-b1fa-f0e476626e9c",
   "metadata": {},
   "outputs": [
    {
     "data": {
      "text/plain": [
       "[34, 'you', True, 3422.45]"
      ]
     },
     "execution_count": 10,
     "metadata": {},
     "output_type": "execute_result"
    }
   ],
   "source": [
    "l[1::2]"
   ]
  },
  {
   "cell_type": "code",
   "execution_count": 11,
   "id": "37db5100-e6ec-44d2-a3cd-a2c3938371f4",
   "metadata": {},
   "outputs": [],
   "source": [
    "q=\"you are a good boy\""
   ]
  },
  {
   "cell_type": "code",
   "execution_count": 12,
   "id": "a29f6c95-586c-4f76-a5f3-bb5d4df7e9e5",
   "metadata": {},
   "outputs": [
    {
     "ename": "NameError",
     "evalue": "name 'Q' is not defined",
     "output_type": "error",
     "traceback": [
      "\u001b[0;31m---------------------------------------------------------------------------\u001b[0m",
      "\u001b[0;31mNameError\u001b[0m                                 Traceback (most recent call last)",
      "Cell \u001b[0;32mIn[12], line 1\u001b[0m\n\u001b[0;32m----> 1\u001b[0m l\u001b[38;5;241m+\u001b[39m\u001b[43mQ\u001b[49m\n",
      "\u001b[0;31mNameError\u001b[0m: name 'Q' is not defined"
     ]
    }
   ],
   "source": [
    "l+Q"
   ]
  },
  {
   "cell_type": "code",
   "execution_count": 15,
   "id": "45c04b30-8689-4bf6-a249-bb74ebf0e1d1",
   "metadata": {},
   "outputs": [
    {
     "data": {
      "text/plain": [
       "['y',\n",
       " 'o',\n",
       " 'u',\n",
       " ' ',\n",
       " 'a',\n",
       " 'r',\n",
       " 'e',\n",
       " ' ',\n",
       " 'a',\n",
       " ' ',\n",
       " 'g',\n",
       " 'o',\n",
       " 'o',\n",
       " 'd',\n",
       " ' ',\n",
       " 'b',\n",
       " 'o',\n",
       " 'y',\n",
       " 23,\n",
       " 34,\n",
       " 35,\n",
       " 'you',\n",
       " 'are',\n",
       " True,\n",
       " (3+4j),\n",
       " 3422.45]"
      ]
     },
     "execution_count": 15,
     "metadata": {},
     "output_type": "execute_result"
    }
   ],
   "source": [
    "list(q)+l"
   ]
  },
  {
   "cell_type": "code",
   "execution_count": 14,
   "id": "e28e8739-6cba-4a3f-8773-9c5654ce11b3",
   "metadata": {},
   "outputs": [
    {
     "ename": "TypeError",
     "evalue": "can only concatenate list (not \"str\") to list",
     "output_type": "error",
     "traceback": [
      "\u001b[0;31m---------------------------------------------------------------------------\u001b[0m",
      "\u001b[0;31mTypeError\u001b[0m                                 Traceback (most recent call last)",
      "Cell \u001b[0;32mIn[14], line 1\u001b[0m\n\u001b[0;32m----> 1\u001b[0m \u001b[43ml\u001b[49m\u001b[38;5;241;43m+\u001b[39;49m\u001b[43mq\u001b[49m\n",
      "\u001b[0;31mTypeError\u001b[0m: can only concatenate list (not \"str\") to list"
     ]
    }
   ],
   "source": [
    "l+q"
   ]
  },
  {
   "cell_type": "code",
   "execution_count": 16,
   "id": "2199ee12-cdf5-4ce7-a5f4-bce6dc8ffc35",
   "metadata": {},
   "outputs": [
    {
     "data": {
      "text/plain": [
       "[23, 34, 35, 'you', 'are', True, (3+4j), 3422.45]"
      ]
     },
     "execution_count": 16,
     "metadata": {},
     "output_type": "execute_result"
    }
   ],
   "source": [
    "l"
   ]
  },
  {
   "cell_type": "code",
   "execution_count": 20,
   "id": "613d1963-4b08-4b75-8bdd-97f3344693bf",
   "metadata": {},
   "outputs": [
    {
     "data": {
      "text/plain": [
       "True"
      ]
     },
     "execution_count": 20,
     "metadata": {},
     "output_type": "execute_result"
    }
   ],
   "source": [
    "l[5]"
   ]
  },
  {
   "cell_type": "code",
   "execution_count": 22,
   "id": "ca668548-a4d7-436e-9651-298ab13c2b6f",
   "metadata": {},
   "outputs": [
    {
     "data": {
      "text/plain": [
       "'Tr'"
      ]
     },
     "execution_count": 22,
     "metadata": {},
     "output_type": "execute_result"
    }
   ],
   "source": [
    "str(l[5])[0:2]"
   ]
  },
  {
   "cell_type": "code",
   "execution_count": 25,
   "id": "2782c343-18cb-43f1-a872-288716f68619",
   "metadata": {},
   "outputs": [],
   "source": [
    "l1=[2,33,32]"
   ]
  },
  {
   "cell_type": "code",
   "execution_count": 26,
   "id": "451a88df-1deb-4cd8-bd63-17b5cd8126b3",
   "metadata": {},
   "outputs": [
    {
     "data": {
      "text/plain": [
       "[2, 33, 32]"
      ]
     },
     "execution_count": 26,
     "metadata": {},
     "output_type": "execute_result"
    }
   ],
   "source": [
    "l1"
   ]
  },
  {
   "cell_type": "code",
   "execution_count": 27,
   "id": "8317cb92-5219-4c3d-b4b6-f704676f80ff",
   "metadata": {},
   "outputs": [
    {
     "data": {
      "text/plain": [
       "[23, 34, 35, 'you', 'are', True, (3+4j), 3422.45, 2, 33, 32]"
      ]
     },
     "execution_count": 27,
     "metadata": {},
     "output_type": "execute_result"
    }
   ],
   "source": [
    "l+l1"
   ]
  },
  {
   "cell_type": "code",
   "execution_count": 28,
   "id": "71f10516-4222-405f-889a-416da9ef245f",
   "metadata": {},
   "outputs": [
    {
     "data": {
      "text/plain": [
       "[2, 33, 32, 2, 33, 32, 2, 33, 32]"
      ]
     },
     "execution_count": 28,
     "metadata": {},
     "output_type": "execute_result"
    }
   ],
   "source": [
    "l1*3"
   ]
  },
  {
   "cell_type": "code",
   "execution_count": 29,
   "id": "a1f088ed-82e6-42d1-ac88-1a6508dcc8b9",
   "metadata": {},
   "outputs": [
    {
     "ename": "TypeError",
     "evalue": "list.count() takes exactly one argument (0 given)",
     "output_type": "error",
     "traceback": [
      "\u001b[0;31m---------------------------------------------------------------------------\u001b[0m",
      "\u001b[0;31mTypeError\u001b[0m                                 Traceback (most recent call last)",
      "Cell \u001b[0;32mIn[29], line 1\u001b[0m\n\u001b[0;32m----> 1\u001b[0m \u001b[43ml\u001b[49m\u001b[38;5;241;43m.\u001b[39;49m\u001b[43mcount\u001b[49m\u001b[43m(\u001b[49m\u001b[43m)\u001b[49m\n",
      "\u001b[0;31mTypeError\u001b[0m: list.count() takes exactly one argument (0 given)"
     ]
    }
   ],
   "source": [
    "l.count()"
   ]
  },
  {
   "cell_type": "code",
   "execution_count": 30,
   "id": "c9dbf8ab-2ed4-4419-b371-6895e8840290",
   "metadata": {},
   "outputs": [
    {
     "ename": "NameError",
     "evalue": "name 'length' is not defined",
     "output_type": "error",
     "traceback": [
      "\u001b[0;31m---------------------------------------------------------------------------\u001b[0m",
      "\u001b[0;31mNameError\u001b[0m                                 Traceback (most recent call last)",
      "Cell \u001b[0;32mIn[30], line 1\u001b[0m\n\u001b[0;32m----> 1\u001b[0m \u001b[43mlength\u001b[49m(l)\n",
      "\u001b[0;31mNameError\u001b[0m: name 'length' is not defined"
     ]
    }
   ],
   "source": [
    "length(l)"
   ]
  },
  {
   "cell_type": "code",
   "execution_count": 31,
   "id": "ce300c08-043a-4018-b816-8a8ee5cee974",
   "metadata": {},
   "outputs": [
    {
     "data": {
      "text/plain": [
       "8"
      ]
     },
     "execution_count": 31,
     "metadata": {},
     "output_type": "execute_result"
    }
   ],
   "source": [
    "len(l)"
   ]
  },
  {
   "cell_type": "code",
   "execution_count": 32,
   "id": "d0b06bac-39dd-40f1-a1d6-b5126eccfec0",
   "metadata": {},
   "outputs": [
    {
     "data": {
      "text/plain": [
       "3"
      ]
     },
     "execution_count": 32,
     "metadata": {},
     "output_type": "execute_result"
    }
   ],
   "source": [
    "len(l1)"
   ]
  },
  {
   "cell_type": "code",
   "execution_count": 33,
   "id": "755cf651-0171-4bf6-9e61-983bcf4a0470",
   "metadata": {},
   "outputs": [],
   "source": [
    "l.append(45)"
   ]
  },
  {
   "cell_type": "code",
   "execution_count": 34,
   "id": "a4175634-b65e-40d3-b327-0c4b8a9bef17",
   "metadata": {},
   "outputs": [
    {
     "data": {
      "text/plain": [
       "[23, 34, 35, 'you', 'are', True, (3+4j), 3422.45, 45]"
      ]
     },
     "execution_count": 34,
     "metadata": {},
     "output_type": "execute_result"
    }
   ],
   "source": [
    "l"
   ]
  },
  {
   "cell_type": "code",
   "execution_count": 35,
   "id": "b054e481-a9d7-4fc6-a03a-48b3441ba99b",
   "metadata": {},
   "outputs": [],
   "source": [
    "l1.append(66)"
   ]
  },
  {
   "cell_type": "code",
   "execution_count": 36,
   "id": "7dea5bbb-3b79-46bc-887c-a2cba9402994",
   "metadata": {},
   "outputs": [
    {
     "data": {
      "text/plain": [
       "[2, 33, 32, 66]"
      ]
     },
     "execution_count": 36,
     "metadata": {},
     "output_type": "execute_result"
    }
   ],
   "source": [
    "l1"
   ]
  },
  {
   "cell_type": "code",
   "execution_count": 37,
   "id": "37aac7ec-ee05-42e2-a645-31ee38f80306",
   "metadata": {},
   "outputs": [
    {
     "data": {
      "text/plain": [
       "'you are a good boy'"
      ]
     },
     "execution_count": 37,
     "metadata": {},
     "output_type": "execute_result"
    }
   ],
   "source": [
    "q"
   ]
  },
  {
   "cell_type": "code",
   "execution_count": 38,
   "id": "4cf4ede9-305e-4360-bf74-e6c80bff536a",
   "metadata": {},
   "outputs": [],
   "source": [
    "l.append(q)"
   ]
  },
  {
   "cell_type": "code",
   "execution_count": 39,
   "id": "46401a6c-7a48-41a5-8ae2-1fda251132a9",
   "metadata": {},
   "outputs": [
    {
     "data": {
      "text/plain": [
       "[23, 34, 35, 'you', 'are', True, (3+4j), 3422.45, 45, 'you are a good boy']"
      ]
     },
     "execution_count": 39,
     "metadata": {},
     "output_type": "execute_result"
    }
   ],
   "source": [
    "l"
   ]
  },
  {
   "cell_type": "code",
   "execution_count": 40,
   "id": "70f421bb-69a4-4485-8854-f5eda0ae0af8",
   "metadata": {},
   "outputs": [],
   "source": [
    "l.append(l1)"
   ]
  },
  {
   "cell_type": "code",
   "execution_count": 41,
   "id": "ac9e9d7c-142b-4bfe-a7eb-a41f8766e6b7",
   "metadata": {},
   "outputs": [
    {
     "data": {
      "text/plain": [
       "[23,\n",
       " 34,\n",
       " 35,\n",
       " 'you',\n",
       " 'are',\n",
       " True,\n",
       " (3+4j),\n",
       " 3422.45,\n",
       " 45,\n",
       " 'you are a good boy',\n",
       " [2, 33, 32, 66]]"
      ]
     },
     "execution_count": 41,
     "metadata": {},
     "output_type": "execute_result"
    }
   ],
   "source": [
    "l"
   ]
  },
  {
   "cell_type": "code",
   "execution_count": 42,
   "id": "b924a7fb-d485-46ad-ad39-da40a9e7e75e",
   "metadata": {},
   "outputs": [
    {
     "data": {
      "text/plain": [
       "[2, 33, 32, 66]"
      ]
     },
     "execution_count": 42,
     "metadata": {},
     "output_type": "execute_result"
    }
   ],
   "source": [
    "l[-1]"
   ]
  },
  {
   "cell_type": "code",
   "execution_count": 43,
   "id": "d7d784bd-d7e5-4403-80ba-49a4ddb597dc",
   "metadata": {},
   "outputs": [
    {
     "data": {
      "text/plain": [
       "32"
      ]
     },
     "execution_count": 43,
     "metadata": {},
     "output_type": "execute_result"
    }
   ],
   "source": [
    "l[-1][-2]"
   ]
  },
  {
   "cell_type": "code",
   "execution_count": 44,
   "id": "5e434452-b8ed-4356-9bdf-4da05ba9bc2f",
   "metadata": {},
   "outputs": [],
   "source": [
    "l1.extend([4,4,6])"
   ]
  },
  {
   "cell_type": "code",
   "execution_count": 45,
   "id": "ca2896f6-9050-4e7b-8032-59afd19edd48",
   "metadata": {},
   "outputs": [
    {
     "data": {
      "text/plain": [
       "[2, 33, 32, 66, 4, 4, 6]"
      ]
     },
     "execution_count": 45,
     "metadata": {},
     "output_type": "execute_result"
    }
   ],
   "source": [
    "l1"
   ]
  },
  {
   "cell_type": "code",
   "execution_count": 46,
   "id": "14fcc7f0-41ee-427d-8863-b308ab181c8d",
   "metadata": {},
   "outputs": [],
   "source": [
    "l1.insert(2, \"you\")"
   ]
  },
  {
   "cell_type": "code",
   "execution_count": 47,
   "id": "1080bc0a-c984-4883-9264-e201fda609ff",
   "metadata": {},
   "outputs": [
    {
     "data": {
      "text/plain": [
       "[2, 33, 'you', 32, 66, 4, 4, 6]"
      ]
     },
     "execution_count": 47,
     "metadata": {},
     "output_type": "execute_result"
    }
   ],
   "source": [
    "l1"
   ]
  },
  {
   "cell_type": "code",
   "execution_count": 49,
   "id": "b6d4f092-52fe-4084-ba99-5763bbe598b2",
   "metadata": {},
   "outputs": [],
   "source": [
    "l1.insert(2, True)"
   ]
  },
  {
   "cell_type": "code",
   "execution_count": 50,
   "id": "c292940c-953b-479e-a4fb-ea7a3c856333",
   "metadata": {},
   "outputs": [
    {
     "data": {
      "text/plain": [
       "[2, 33, True, 'you', 32, 66, 4, 4, 6]"
      ]
     },
     "execution_count": 50,
     "metadata": {},
     "output_type": "execute_result"
    }
   ],
   "source": [
    "l1"
   ]
  },
  {
   "cell_type": "code",
   "execution_count": 51,
   "id": "7cee2ffa-905b-42b8-9901-b102161c0fb6",
   "metadata": {},
   "outputs": [
    {
     "data": {
      "text/plain": [
       "6"
      ]
     },
     "execution_count": 51,
     "metadata": {},
     "output_type": "execute_result"
    }
   ],
   "source": [
    "l1.pop()"
   ]
  },
  {
   "cell_type": "code",
   "execution_count": 52,
   "id": "bbb6ed15-cc31-41d8-8049-16fd84066ec0",
   "metadata": {},
   "outputs": [
    {
     "data": {
      "text/plain": [
       "[2, 33, True, 'you', 32, 66, 4, 4]"
      ]
     },
     "execution_count": 52,
     "metadata": {},
     "output_type": "execute_result"
    }
   ],
   "source": [
    "l1"
   ]
  },
  {
   "cell_type": "code",
   "execution_count": 53,
   "id": "53ec95ea-5afe-4f55-894e-aeed5a7e6419",
   "metadata": {},
   "outputs": [
    {
     "data": {
      "text/plain": [
       "4"
      ]
     },
     "execution_count": 53,
     "metadata": {},
     "output_type": "execute_result"
    }
   ],
   "source": [
    "l1.pop()"
   ]
  },
  {
   "cell_type": "code",
   "execution_count": 54,
   "id": "2ad3136b-1f49-4628-baac-21b02b04263b",
   "metadata": {},
   "outputs": [
    {
     "data": {
      "text/plain": [
       "[2, 33, True, 'you', 32, 66, 4]"
      ]
     },
     "execution_count": 54,
     "metadata": {},
     "output_type": "execute_result"
    }
   ],
   "source": [
    "l1"
   ]
  },
  {
   "cell_type": "code",
   "execution_count": 55,
   "id": "c940c666-5a8d-4446-b3f1-88a922cbaa1e",
   "metadata": {},
   "outputs": [
    {
     "data": {
      "text/plain": [
       "True"
      ]
     },
     "execution_count": 55,
     "metadata": {},
     "output_type": "execute_result"
    }
   ],
   "source": [
    "l1.pop(2)"
   ]
  },
  {
   "cell_type": "code",
   "execution_count": 56,
   "id": "29ecd828-7118-4110-9b89-c27295411780",
   "metadata": {},
   "outputs": [
    {
     "ename": "IndexError",
     "evalue": "pop index out of range",
     "output_type": "error",
     "traceback": [
      "\u001b[0;31m---------------------------------------------------------------------------\u001b[0m",
      "\u001b[0;31mIndexError\u001b[0m                                Traceback (most recent call last)",
      "Cell \u001b[0;32mIn[56], line 1\u001b[0m\n\u001b[0;32m----> 1\u001b[0m \u001b[43ml1\u001b[49m\u001b[38;5;241;43m.\u001b[39;49m\u001b[43mpop\u001b[49m\u001b[43m(\u001b[49m\u001b[38;5;241;43m33\u001b[39;49m\u001b[43m)\u001b[49m\n",
      "\u001b[0;31mIndexError\u001b[0m: pop index out of range"
     ]
    }
   ],
   "source": [
    "l1.pop(33)"
   ]
  },
  {
   "cell_type": "code",
   "execution_count": 57,
   "id": "cfdeb70a-b518-4e88-b57f-a19df1c29db6",
   "metadata": {},
   "outputs": [
    {
     "data": {
      "text/plain": [
       "32"
      ]
     },
     "execution_count": 57,
     "metadata": {},
     "output_type": "execute_result"
    }
   ],
   "source": [
    "l1.pop(3)"
   ]
  },
  {
   "cell_type": "code",
   "execution_count": 58,
   "id": "f2e01042-0539-49ed-83c0-7e816d411c46",
   "metadata": {},
   "outputs": [
    {
     "data": {
      "text/plain": [
       "[2, 33, 'you', 66, 4]"
      ]
     },
     "execution_count": 58,
     "metadata": {},
     "output_type": "execute_result"
    }
   ],
   "source": [
    "l1"
   ]
  },
  {
   "cell_type": "code",
   "execution_count": 60,
   "id": "add0c182-b0a6-4b6a-98e4-d5b7a388f811",
   "metadata": {},
   "outputs": [],
   "source": [
    "l1.remove(33)"
   ]
  },
  {
   "cell_type": "markdown",
   "id": "3f0ab6d7-8a37-4d09-8041-ee6671cc2750",
   "metadata": {},
   "source": [
    "l1"
   ]
  },
  {
   "cell_type": "code",
   "execution_count": 61,
   "id": "dd2b2cba-6af0-4c0b-a16a-68407a722eba",
   "metadata": {},
   "outputs": [
    {
     "data": {
      "text/plain": [
       "[2, 'you', 66, 4]"
      ]
     },
     "execution_count": 61,
     "metadata": {},
     "output_type": "execute_result"
    }
   ],
   "source": [
    "l1"
   ]
  },
  {
   "cell_type": "code",
   "execution_count": 62,
   "id": "1f3825ef-6ba7-4c9d-94b2-350a0982b319",
   "metadata": {},
   "outputs": [],
   "source": [
    "l2=[2,4,5]"
   ]
  },
  {
   "cell_type": "code",
   "execution_count": 63,
   "id": "4cec19a5-6ca4-41d1-be5e-0060034972cf",
   "metadata": {},
   "outputs": [
    {
     "data": {
      "text/plain": [
       "[2, 'you', 66, 4, 2, 4, 5]"
      ]
     },
     "execution_count": 63,
     "metadata": {},
     "output_type": "execute_result"
    }
   ],
   "source": [
    "l1+l2"
   ]
  },
  {
   "cell_type": "code",
   "execution_count": 64,
   "id": "a0f9770c-06dd-479d-b7ab-7feea663b419",
   "metadata": {},
   "outputs": [],
   "source": [
    "l3=[4,5,6]"
   ]
  },
  {
   "cell_type": "code",
   "execution_count": 66,
   "id": "bdb14fb1-ddf4-4a6d-b18b-689ddfcaf595",
   "metadata": {},
   "outputs": [],
   "source": [
    "l1.insert(4,l3)"
   ]
  },
  {
   "cell_type": "code",
   "execution_count": 67,
   "id": "d6ae5412-cac3-4d40-8b4c-fed01b1e6b32",
   "metadata": {},
   "outputs": [
    {
     "data": {
      "text/plain": [
       "[2, 'you', 66, 4, [4, 5, 6]]"
      ]
     },
     "execution_count": 67,
     "metadata": {},
     "output_type": "execute_result"
    }
   ],
   "source": [
    "l1"
   ]
  },
  {
   "cell_type": "code",
   "execution_count": 69,
   "id": "e8cd0209-1a11-4fa0-a26c-98daa6fb5a06",
   "metadata": {},
   "outputs": [],
   "source": [
    "l1[-1].remove(5)"
   ]
  },
  {
   "cell_type": "code",
   "execution_count": 70,
   "id": "473241a3-abdb-4296-a7b0-1a4aa2d98956",
   "metadata": {},
   "outputs": [
    {
     "data": {
      "text/plain": [
       "[2, 'you', 66, 4, [4, 6]]"
      ]
     },
     "execution_count": 70,
     "metadata": {},
     "output_type": "execute_result"
    }
   ],
   "source": [
    "l1"
   ]
  },
  {
   "cell_type": "code",
   "execution_count": 71,
   "id": "3e9d9673-8453-4cef-bd8d-2da5f4531fbf",
   "metadata": {},
   "outputs": [],
   "source": [
    "l1.remove(66)"
   ]
  },
  {
   "cell_type": "code",
   "execution_count": 72,
   "id": "3a0f1dcb-850a-41dd-98c3-492c6060a3b4",
   "metadata": {},
   "outputs": [
    {
     "data": {
      "text/plain": [
       "[2, 'you', 4, [4, 6]]"
      ]
     },
     "execution_count": 72,
     "metadata": {},
     "output_type": "execute_result"
    }
   ],
   "source": [
    "l1"
   ]
  },
  {
   "cell_type": "code",
   "execution_count": 73,
   "id": "cbe2544e-08ce-416e-8306-1586af9ee61e",
   "metadata": {},
   "outputs": [],
   "source": [
    "l1.insert(4,2)"
   ]
  },
  {
   "cell_type": "code",
   "execution_count": 74,
   "id": "7dd1603a-2a42-40f5-8fa3-c49102175b31",
   "metadata": {},
   "outputs": [
    {
     "data": {
      "text/plain": [
       "[2, 'you', 4, [4, 6], 2]"
      ]
     },
     "execution_count": 74,
     "metadata": {},
     "output_type": "execute_result"
    }
   ],
   "source": [
    "l1"
   ]
  },
  {
   "cell_type": "code",
   "execution_count": 75,
   "id": "48d79775-1994-4592-894e-bb61e9309400",
   "metadata": {},
   "outputs": [],
   "source": [
    "l1.insert(0,2)"
   ]
  },
  {
   "cell_type": "code",
   "execution_count": 76,
   "id": "a2a594f5-72f8-4b4c-ac63-15e65692f780",
   "metadata": {},
   "outputs": [
    {
     "data": {
      "text/plain": [
       "[2, 2, 'you', 4, [4, 6], 2]"
      ]
     },
     "execution_count": 76,
     "metadata": {},
     "output_type": "execute_result"
    }
   ],
   "source": [
    "l1"
   ]
  },
  {
   "cell_type": "code",
   "execution_count": 77,
   "id": "d32b2419-83f5-4b52-aab3-4f4fc9d5a618",
   "metadata": {},
   "outputs": [
    {
     "data": {
      "text/plain": [
       "[2, [4, 6], 4, 'you', 2, 2]"
      ]
     },
     "execution_count": 77,
     "metadata": {},
     "output_type": "execute_result"
    }
   ],
   "source": [
    "l1[::-1]"
   ]
  },
  {
   "cell_type": "code",
   "execution_count": 79,
   "id": "2dfb9a00-a9dc-4373-a3cd-73177b276c00",
   "metadata": {},
   "outputs": [],
   "source": [
    "l1.reverse()"
   ]
  },
  {
   "cell_type": "code",
   "execution_count": 80,
   "id": "bbfa01e0-439b-4375-8627-4b53de0e4d48",
   "metadata": {},
   "outputs": [
    {
     "data": {
      "text/plain": [
       "[2, [4, 6], 4, 'you', 2, 2]"
      ]
     },
     "execution_count": 80,
     "metadata": {},
     "output_type": "execute_result"
    }
   ],
   "source": [
    "l1"
   ]
  },
  {
   "cell_type": "code",
   "execution_count": 81,
   "id": "8fdf7c60-d930-4e0a-9083-2ebc109e4702",
   "metadata": {},
   "outputs": [],
   "source": [
    "l3.sort()"
   ]
  },
  {
   "cell_type": "code",
   "execution_count": 82,
   "id": "67cb8224-c4a3-44b0-a482-ab659e6aaf3a",
   "metadata": {},
   "outputs": [
    {
     "data": {
      "text/plain": [
       "[4, 6]"
      ]
     },
     "execution_count": 82,
     "metadata": {},
     "output_type": "execute_result"
    }
   ],
   "source": [
    "l3"
   ]
  },
  {
   "cell_type": "code",
   "execution_count": 83,
   "id": "e3c0f825-4af8-4c9f-984e-62eb1e32bd83",
   "metadata": {},
   "outputs": [],
   "source": [
    "l3.insert(0,3)"
   ]
  },
  {
   "cell_type": "code",
   "execution_count": 84,
   "id": "2519815b-ff5a-420d-8639-ae84fd02dba1",
   "metadata": {},
   "outputs": [],
   "source": [
    "l3.insert(1,5)"
   ]
  },
  {
   "cell_type": "code",
   "execution_count": 85,
   "id": "0e60f119-3a4e-4de5-b3b5-507a23329126",
   "metadata": {},
   "outputs": [],
   "source": [
    "l3.sort()"
   ]
  },
  {
   "cell_type": "code",
   "execution_count": 86,
   "id": "2d4b17ad-f4fe-4c16-ace2-0bc15198185d",
   "metadata": {},
   "outputs": [
    {
     "data": {
      "text/plain": [
       "[3, 4, 5, 6]"
      ]
     },
     "execution_count": 86,
     "metadata": {},
     "output_type": "execute_result"
    }
   ],
   "source": [
    "l3"
   ]
  },
  {
   "cell_type": "code",
   "execution_count": 87,
   "id": "e25a4cc3-c0ce-470e-bd14-0e8fba803cf5",
   "metadata": {},
   "outputs": [],
   "source": [
    "l4=[\"kum\", \"love\", \"use\"]"
   ]
  },
  {
   "cell_type": "code",
   "execution_count": 88,
   "id": "b03e45c2-b366-40ed-b241-bd727d31c081",
   "metadata": {},
   "outputs": [],
   "source": [
    "l4.sort()"
   ]
  },
  {
   "cell_type": "code",
   "execution_count": 89,
   "id": "d5215ea6-b3af-4f16-9891-3018015910df",
   "metadata": {},
   "outputs": [
    {
     "data": {
      "text/plain": [
       "['kum', 'love', 'use']"
      ]
     },
     "execution_count": 89,
     "metadata": {},
     "output_type": "execute_result"
    }
   ],
   "source": [
    "l4"
   ]
  },
  {
   "cell_type": "code",
   "execution_count": 91,
   "id": "f57f6656-4ab3-4130-b1a7-fa97ca02ec5b",
   "metadata": {},
   "outputs": [],
   "source": [
    "l4.sort(reverse=True)"
   ]
  },
  {
   "cell_type": "code",
   "execution_count": 92,
   "id": "271f79f6-8a00-46e9-9fd5-f789a2b5817f",
   "metadata": {},
   "outputs": [
    {
     "data": {
      "text/plain": [
       "['use', 'love', 'kum']"
      ]
     },
     "execution_count": 92,
     "metadata": {},
     "output_type": "execute_result"
    }
   ],
   "source": [
    "l4"
   ]
  },
  {
   "cell_type": "code",
   "execution_count": 94,
   "id": "caef4990-ec5f-4f3d-a224-01d5add033e4",
   "metadata": {},
   "outputs": [
    {
     "data": {
      "text/plain": [
       "1"
      ]
     },
     "execution_count": 94,
     "metadata": {},
     "output_type": "execute_result"
    }
   ],
   "source": [
    "l4.index(\"love\")"
   ]
  },
  {
   "cell_type": "code",
   "execution_count": 95,
   "id": "112006a6-d427-4b8d-815d-32b4b012e2fc",
   "metadata": {},
   "outputs": [],
   "source": [
    "s=[\"love\"]"
   ]
  },
  {
   "cell_type": "code",
   "execution_count": 97,
   "id": "7098c72e-f402-4d8c-a63e-ecaaad759bd9",
   "metadata": {},
   "outputs": [],
   "source": [
    "l5=[45,56,87]"
   ]
  },
  {
   "cell_type": "code",
   "execution_count": 98,
   "id": "3f0ad795-e9d1-4c2a-8ef8-5b13b956937b",
   "metadata": {},
   "outputs": [
    {
     "data": {
      "text/plain": [
       "'love'"
      ]
     },
     "execution_count": 98,
     "metadata": {},
     "output_type": "execute_result"
    }
   ],
   "source": [
    "s[0]"
   ]
  },
  {
   "cell_type": "code",
   "execution_count": 99,
   "id": "442bf377-68fa-4373-b27e-7b26af76adfb",
   "metadata": {},
   "outputs": [],
   "source": [
    "s=\"love\""
   ]
  },
  {
   "cell_type": "code",
   "execution_count": 100,
   "id": "15ea2c2c-6d6d-4807-b8f5-54c323e6030a",
   "metadata": {},
   "outputs": [
    {
     "data": {
      "text/plain": [
       "'l'"
      ]
     },
     "execution_count": 100,
     "metadata": {},
     "output_type": "execute_result"
    }
   ],
   "source": [
    "s[0]"
   ]
  },
  {
   "cell_type": "code",
   "execution_count": 111,
   "id": "bc72a45c-998e-4722-bfd2-666731ee3cc3",
   "metadata": {},
   "outputs": [
    {
     "data": {
      "text/plain": [
       "'tove'"
      ]
     },
     "execution_count": 111,
     "metadata": {},
     "output_type": "execute_result"
    }
   ],
   "source": [
    "s.replace(\"l\", \"t\")"
   ]
  },
  {
   "cell_type": "code",
   "execution_count": 108,
   "id": "d6a32341-99e5-4436-b95b-e96d9fccb791",
   "metadata": {},
   "outputs": [],
   "source": [
    "l5[0] = 30"
   ]
  },
  {
   "cell_type": "code",
   "execution_count": 109,
   "id": "4a2f09d7-e310-44e9-a6b0-a13968d58fd3",
   "metadata": {},
   "outputs": [
    {
     "data": {
      "text/plain": [
       "[30, 56, 87]"
      ]
     },
     "execution_count": 109,
     "metadata": {},
     "output_type": "execute_result"
    }
   ],
   "source": [
    "l5"
   ]
  },
  {
   "cell_type": "code",
   "execution_count": 112,
   "id": "3ac46555-4c0a-49af-95af-02b143e4051c",
   "metadata": {},
   "outputs": [
    {
     "data": {
      "text/plain": [
       "'love'"
      ]
     },
     "execution_count": 112,
     "metadata": {},
     "output_type": "execute_result"
    }
   ],
   "source": [
    "s"
   ]
  },
  {
   "cell_type": "code",
   "execution_count": 113,
   "id": "bcd74c33-bedb-4175-8a22-d8d4ea14c55f",
   "metadata": {},
   "outputs": [],
   "source": [
    "t = (34,23, \"you\", True, 4+5j, 45.87)"
   ]
  },
  {
   "cell_type": "code",
   "execution_count": 114,
   "id": "e4616945-9584-4faf-a1e0-c53947571330",
   "metadata": {},
   "outputs": [
    {
     "data": {
      "text/plain": [
       "(34, 23, 'you', True, (4+5j), 45.87)"
      ]
     },
     "execution_count": 114,
     "metadata": {},
     "output_type": "execute_result"
    }
   ],
   "source": [
    "t"
   ]
  },
  {
   "cell_type": "code",
   "execution_count": 115,
   "id": "da02e76a-879c-49db-9f07-08ee7baebe75",
   "metadata": {},
   "outputs": [
    {
     "data": {
      "text/plain": [
       "tuple"
      ]
     },
     "execution_count": 115,
     "metadata": {},
     "output_type": "execute_result"
    }
   ],
   "source": [
    "type(t)"
   ]
  },
  {
   "cell_type": "code",
   "execution_count": 119,
   "id": "ef2a4c4f-a6c9-4cba-86c3-bc383835ee36",
   "metadata": {},
   "outputs": [
    {
     "data": {
      "text/plain": [
       "6"
      ]
     },
     "execution_count": 119,
     "metadata": {},
     "output_type": "execute_result"
    }
   ],
   "source": [
    "len(t)"
   ]
  },
  {
   "cell_type": "code",
   "execution_count": 120,
   "id": "72e15a9b-5d2a-43cd-aefe-c779fa4f9c84",
   "metadata": {},
   "outputs": [
    {
     "data": {
      "text/plain": [
       "23"
      ]
     },
     "execution_count": 120,
     "metadata": {},
     "output_type": "execute_result"
    }
   ],
   "source": [
    "t[1]"
   ]
  },
  {
   "cell_type": "code",
   "execution_count": 121,
   "id": "d6654b80-70b7-45e8-a9da-ad23070dd1ee",
   "metadata": {},
   "outputs": [
    {
     "data": {
      "text/plain": [
       "45.87"
      ]
     },
     "execution_count": 121,
     "metadata": {},
     "output_type": "execute_result"
    }
   ],
   "source": [
    "t[-1]"
   ]
  },
  {
   "cell_type": "code",
   "execution_count": 122,
   "id": "703337d2-7f5e-491c-b8f5-6b5e61b02def",
   "metadata": {},
   "outputs": [
    {
     "data": {
      "text/plain": [
       "(45.87, (4+5j), True, 'you', 23, 34)"
      ]
     },
     "execution_count": 122,
     "metadata": {},
     "output_type": "execute_result"
    }
   ],
   "source": [
    "t[::-1]"
   ]
  },
  {
   "cell_type": "code",
   "execution_count": 123,
   "id": "28c27baa-4600-402c-b3f6-af1b3faf8f58",
   "metadata": {},
   "outputs": [
    {
     "data": {
      "text/plain": [
       "['use', 'love', 'kum']"
      ]
     },
     "execution_count": 123,
     "metadata": {},
     "output_type": "execute_result"
    }
   ],
   "source": [
    "l4"
   ]
  },
  {
   "cell_type": "code",
   "execution_count": 125,
   "id": "86fe2529-cf8c-4aae-aab5-0feb7f329bb4",
   "metadata": {},
   "outputs": [],
   "source": [
    "l4[0] = 34"
   ]
  },
  {
   "cell_type": "markdown",
   "id": "eb8da767-ccf5-4071-a634-45da59821a16",
   "metadata": {
    "tags": []
   },
   "source": [
    "l4"
   ]
  },
  {
   "cell_type": "code",
   "execution_count": 126,
   "id": "0711e070-409e-4ca1-87ce-64b80a00eed4",
   "metadata": {},
   "outputs": [
    {
     "data": {
      "text/plain": [
       "[34, 'love', 'kum']"
      ]
     },
     "execution_count": 126,
     "metadata": {},
     "output_type": "execute_result"
    }
   ],
   "source": [
    "l4"
   ]
  },
  {
   "cell_type": "code",
   "execution_count": 127,
   "id": "ff6c2107-7079-4741-8815-2533b04b02cf",
   "metadata": {},
   "outputs": [
    {
     "data": {
      "text/plain": [
       "(34, 23, 'you', True, (4+5j), 45.87)"
      ]
     },
     "execution_count": 127,
     "metadata": {},
     "output_type": "execute_result"
    }
   ],
   "source": [
    "t"
   ]
  },
  {
   "cell_type": "code",
   "execution_count": 128,
   "id": "81c35c5c-07f4-4c1f-a4f1-7972d2c57f8e",
   "metadata": {},
   "outputs": [
    {
     "ename": "TypeError",
     "evalue": "'tuple' object does not support item assignment",
     "output_type": "error",
     "traceback": [
      "\u001b[0;31m---------------------------------------------------------------------------\u001b[0m",
      "\u001b[0;31mTypeError\u001b[0m                                 Traceback (most recent call last)",
      "Cell \u001b[0;32mIn[128], line 1\u001b[0m\n\u001b[0;32m----> 1\u001b[0m \u001b[43mt\u001b[49m\u001b[43m[\u001b[49m\u001b[38;5;241;43m0\u001b[39;49m\u001b[43m]\u001b[49m \u001b[38;5;241m=\u001b[39m \u001b[38;5;124m\"\u001b[39m\u001b[38;5;124myou\u001b[39m\u001b[38;5;124m\"\u001b[39m\n",
      "\u001b[0;31mTypeError\u001b[0m: 'tuple' object does not support item assignment"
     ]
    }
   ],
   "source": [
    "t[0] = \"you\""
   ]
  },
  {
   "cell_type": "code",
   "execution_count": 135,
   "id": "d89c0d2c-2901-4ba5-8182-420cde5c2470",
   "metadata": {},
   "outputs": [
    {
     "data": {
      "text/plain": [
       "3"
      ]
     },
     "execution_count": 135,
     "metadata": {},
     "output_type": "execute_result"
    }
   ],
   "source": [
    "t.index(True)"
   ]
  },
  {
   "cell_type": "code",
   "execution_count": 136,
   "id": "f90a7731-acf6-4e09-9e26-471431ce28f7",
   "metadata": {},
   "outputs": [],
   "source": [
    "s1={}"
   ]
  },
  {
   "cell_type": "code",
   "execution_count": 138,
   "id": "00a507c7-b0b2-4c8c-b654-4116433f3a2b",
   "metadata": {},
   "outputs": [
    {
     "data": {
      "text/plain": [
       "dict"
      ]
     },
     "execution_count": 138,
     "metadata": {},
     "output_type": "execute_result"
    }
   ],
   "source": [
    "type(s1)"
   ]
  },
  {
   "cell_type": "code",
   "execution_count": 139,
   "id": "65a53e7d-6695-4795-89be-95bb5099e72d",
   "metadata": {},
   "outputs": [],
   "source": [
    "s2={3,4,5,6}"
   ]
  },
  {
   "cell_type": "code",
   "execution_count": 140,
   "id": "01a874cf-78ba-46f2-9b09-95a314865c5e",
   "metadata": {},
   "outputs": [
    {
     "data": {
      "text/plain": [
       "set"
      ]
     },
     "execution_count": 140,
     "metadata": {},
     "output_type": "execute_result"
    }
   ],
   "source": [
    "type(s2)"
   ]
  },
  {
   "cell_type": "code",
   "execution_count": 142,
   "id": "c627b940-407b-4fa5-b989-029a7a01bc61",
   "metadata": {},
   "outputs": [],
   "source": [
    "s3={2,4,\"you\",False,34.45,37+5J}"
   ]
  },
  {
   "cell_type": "code",
   "execution_count": 147,
   "id": "79faacf7-48d4-45d5-977f-364e39481727",
   "metadata": {},
   "outputs": [],
   "source": [
    "s4={4,3,2,4,5,6,7,2,3,4,5,6,9,9, \"love\", \"Love\"}"
   ]
  },
  {
   "cell_type": "code",
   "execution_count": 148,
   "id": "9466a341-ceeb-42f5-9127-023a8341e3be",
   "metadata": {},
   "outputs": [
    {
     "data": {
      "text/plain": [
       "{2, 3, 4, 5, 6, 7, 9, 'Love', 'love'}"
      ]
     },
     "execution_count": 148,
     "metadata": {},
     "output_type": "execute_result"
    }
   ],
   "source": [
    "s4"
   ]
  },
  {
   "cell_type": "code",
   "execution_count": 151,
   "id": "3a876b35-dda0-4c6d-8d43-c977319a2014",
   "metadata": {},
   "outputs": [
    {
     "ename": "TypeError",
     "evalue": "unhashable type: 'list'",
     "output_type": "error",
     "traceback": [
      "\u001b[0;31m---------------------------------------------------------------------------\u001b[0m",
      "\u001b[0;31mTypeError\u001b[0m                                 Traceback (most recent call last)",
      "Cell \u001b[0;32mIn[151], line 1\u001b[0m\n\u001b[0;32m----> 1\u001b[0m l1\u001b[38;5;241m=\u001b[39m\u001b[38;5;28;43mset\u001b[39;49m\u001b[43m(\u001b[49m\u001b[43ml1\u001b[49m\u001b[43m)\u001b[49m\n",
      "\u001b[0;31mTypeError\u001b[0m: unhashable type: 'list'"
     ]
    }
   ],
   "source": [
    "l1=set(l1)"
   ]
  },
  {
   "cell_type": "code",
   "execution_count": 152,
   "id": "b1b3e88a-f682-467e-928c-f236d2d7e8b8",
   "metadata": {},
   "outputs": [],
   "source": [
    "l5={4,3,2,4,5,6,7,2,3,4,5,6,9,9, \"love\", \"Love\"}\n"
   ]
  },
  {
   "cell_type": "code",
   "execution_count": 153,
   "id": "6fae96e7-a389-4f4a-8eba-75fda47a5781",
   "metadata": {},
   "outputs": [],
   "source": [
    "l5=set(l5)"
   ]
  },
  {
   "cell_type": "code",
   "execution_count": 154,
   "id": "5ef84e9f-42a5-47e9-bc17-80d56465d8de",
   "metadata": {},
   "outputs": [
    {
     "data": {
      "text/plain": [
       "{2, 3, 4, 5, 6, 7, 9, 'Love', 'love'}"
      ]
     },
     "execution_count": 154,
     "metadata": {},
     "output_type": "execute_result"
    }
   ],
   "source": [
    "l5"
   ]
  },
  {
   "cell_type": "code",
   "execution_count": 155,
   "id": "a616d393-b576-40d2-9a38-c5dddd8b5f5d",
   "metadata": {},
   "outputs": [],
   "source": [
    "s5={54,334,556,4,5,22,\"tyu\",\"tfr\",\"yui\"}"
   ]
  },
  {
   "cell_type": "code",
   "execution_count": 156,
   "id": "da95a39f-c701-447c-82e8-6c0bdd44f9d0",
   "metadata": {},
   "outputs": [
    {
     "data": {
      "text/plain": [
       "{22, 334, 4, 5, 54, 556, 'tfr', 'tyu', 'yui'}"
      ]
     },
     "execution_count": 156,
     "metadata": {},
     "output_type": "execute_result"
    }
   ],
   "source": [
    "s5"
   ]
  },
  {
   "cell_type": "code",
   "execution_count": 159,
   "id": "5e25368b-de3c-407e-a9c5-5e7526af6438",
   "metadata": {},
   "outputs": [
    {
     "ename": "TypeError",
     "evalue": "'set' object is not subscriptable",
     "output_type": "error",
     "traceback": [
      "\u001b[0;31m---------------------------------------------------------------------------\u001b[0m",
      "\u001b[0;31mTypeError\u001b[0m                                 Traceback (most recent call last)",
      "Cell \u001b[0;32mIn[159], line 1\u001b[0m\n\u001b[0;32m----> 1\u001b[0m \u001b[43ms5\u001b[49m\u001b[43m[\u001b[49m\u001b[43m:\u001b[49m\u001b[43m:\u001b[49m\u001b[38;5;241;43m-\u001b[39;49m\u001b[38;5;241;43m1\u001b[39;49m\u001b[43m]\u001b[49m\n",
      "\u001b[0;31mTypeError\u001b[0m: 'set' object is not subscriptable"
     ]
    }
   ],
   "source": [
    "s5[::-1]"
   ]
  },
  {
   "cell_type": "code",
   "execution_count": 160,
   "id": "a78b2e8c-62fc-4824-ad84-d77572e4bb49",
   "metadata": {},
   "outputs": [],
   "source": [
    "s5.add(4)"
   ]
  },
  {
   "cell_type": "code",
   "execution_count": 161,
   "id": "f2e287c3-a9e6-4942-9bfc-6726046c515d",
   "metadata": {},
   "outputs": [
    {
     "data": {
      "text/plain": [
       "{22, 334, 4, 5, 54, 556, 'tfr', 'tyu', 'yui'}"
      ]
     },
     "execution_count": 161,
     "metadata": {},
     "output_type": "execute_result"
    }
   ],
   "source": [
    "s5"
   ]
  },
  {
   "cell_type": "code",
   "execution_count": 162,
   "id": "a56d0af9-00b9-4fd0-a015-0ddf51665bf7",
   "metadata": {},
   "outputs": [],
   "source": [
    "s5.add(456)"
   ]
  },
  {
   "cell_type": "code",
   "execution_count": 163,
   "id": "8d8de85f-33b0-45ea-9f64-5d45f3dae3e9",
   "metadata": {},
   "outputs": [
    {
     "data": {
      "text/plain": [
       "{22, 334, 4, 456, 5, 54, 556, 'tfr', 'tyu', 'yui'}"
      ]
     },
     "execution_count": 163,
     "metadata": {},
     "output_type": "execute_result"
    }
   ],
   "source": [
    "s5"
   ]
  },
  {
   "cell_type": "code",
   "execution_count": 164,
   "id": "9a4ccf4f-82e6-40f4-b163-75c093bb93b7",
   "metadata": {},
   "outputs": [],
   "source": [
    "s5.remove(4)"
   ]
  },
  {
   "cell_type": "code",
   "execution_count": 165,
   "id": "5e50d82c-546f-49ec-9055-eb1de99f1250",
   "metadata": {},
   "outputs": [
    {
     "data": {
      "text/plain": [
       "{22, 334, 456, 5, 54, 556, 'tfr', 'tyu', 'yui'}"
      ]
     },
     "execution_count": 165,
     "metadata": {},
     "output_type": "execute_result"
    }
   ],
   "source": [
    "s5"
   ]
  },
  {
   "cell_type": "code",
   "execution_count": 1,
   "id": "5b7fb989-712f-47f5-8658-d9e118fe0f51",
   "metadata": {},
   "outputs": [],
   "source": [
    "d = {}"
   ]
  },
  {
   "cell_type": "code",
   "execution_count": 3,
   "id": "fce98e40-fe12-473a-9e26-1191201d59f7",
   "metadata": {},
   "outputs": [
    {
     "data": {
      "text/plain": [
       "dict"
      ]
     },
     "execution_count": 3,
     "metadata": {},
     "output_type": "execute_result"
    }
   ],
   "source": [
    "type(d)"
   ]
  },
  {
   "cell_type": "code",
   "execution_count": 7,
   "id": "007a4237-2108-4f14-9e8e-e3aacb40da41",
   "metadata": {},
   "outputs": [],
   "source": [
    "d1= {\"key\" : \"Ramesh\"}"
   ]
  },
  {
   "cell_type": "code",
   "execution_count": 5,
   "id": "7f448b09-ec3d-42ed-b7fc-26d7ca5c02cb",
   "metadata": {},
   "outputs": [
    {
     "data": {
      "text/plain": [
       "dict"
      ]
     },
     "execution_count": 5,
     "metadata": {},
     "output_type": "execute_result"
    }
   ],
   "source": [
    "type(d1)"
   ]
  },
  {
   "cell_type": "code",
   "execution_count": 8,
   "id": "396c3890-f1c8-4aa7-a992-b529ef5808d6",
   "metadata": {},
   "outputs": [
    {
     "data": {
      "text/plain": [
       "{'key': 'Ramesh'}"
      ]
     },
     "execution_count": 8,
     "metadata": {},
     "output_type": "execute_result"
    }
   ],
   "source": [
    "d1"
   ]
  },
  {
   "cell_type": "code",
   "execution_count": 13,
   "id": "0996420d-d213-4e09-9bd4-319538b67dab",
   "metadata": {},
   "outputs": [],
   "source": [
    "d2={\"Name\" : \"Rohan\", \"email\" : \"Ram@abcd.com\", \"Phone No.\" : 8879988888}"
   ]
  },
  {
   "cell_type": "code",
   "execution_count": 14,
   "id": "e20313dd-2cd1-4620-bc70-99f4638bf3a7",
   "metadata": {},
   "outputs": [
    {
     "data": {
      "text/plain": [
       "{'Name': 'Rohan', 'email': 'Ram@abcd.com', 'Phone No.': 8879988888}"
      ]
     },
     "execution_count": 14,
     "metadata": {},
     "output_type": "execute_result"
    }
   ],
   "source": [
    "d2"
   ]
  },
  {
   "cell_type": "code",
   "execution_count": 15,
   "id": "167856e0-4b78-4471-91ed-8230c950f812",
   "metadata": {},
   "outputs": [],
   "source": [
    "d3={1: \"Ram\", 2: \"shyam\", True: \"rahul\"}"
   ]
  },
  {
   "cell_type": "code",
   "execution_count": 16,
   "id": "8f5e21c5-f725-4df1-bdde-1de22ed25a88",
   "metadata": {},
   "outputs": [
    {
     "data": {
      "text/plain": [
       "'shyam'"
      ]
     },
     "execution_count": 16,
     "metadata": {},
     "output_type": "execute_result"
    }
   ],
   "source": [
    "d3[2]"
   ]
  },
  {
   "cell_type": "code",
   "execution_count": 18,
   "id": "506474ad-32e4-43d6-b613-7ec4dccbf629",
   "metadata": {},
   "outputs": [
    {
     "data": {
      "text/plain": [
       "'rahul'"
      ]
     },
     "execution_count": 18,
     "metadata": {},
     "output_type": "execute_result"
    }
   ],
   "source": [
    "d3[True]"
   ]
  },
  {
   "cell_type": "code",
   "execution_count": 21,
   "id": "34e7a10d-4c85-4414-bf6e-402489e9be68",
   "metadata": {},
   "outputs": [
    {
     "data": {
      "text/plain": [
       "'rahul'"
      ]
     },
     "execution_count": 21,
     "metadata": {},
     "output_type": "execute_result"
    }
   ],
   "source": [
    "d3[1]"
   ]
  },
  {
   "cell_type": "code",
   "execution_count": 22,
   "id": "f6f260a4-5851-4900-b8e9-d96d8f82f566",
   "metadata": {},
   "outputs": [
    {
     "data": {
      "text/plain": [
       "{'Name': 'Rohan', 'email': 'Ram@abcd.com', 'Phone No.': 8879988888}"
      ]
     },
     "execution_count": 22,
     "metadata": {},
     "output_type": "execute_result"
    }
   ],
   "source": [
    "d2"
   ]
  },
  {
   "cell_type": "code",
   "execution_count": 23,
   "id": "190c7cc1-0062-442a-94b7-4989dc9929d2",
   "metadata": {},
   "outputs": [],
   "source": [
    "d4={\"Name\" : \"Rohan\", \"email\" : \"Ram@abcd.com\", \"Phone No.\" : 8879988888, \"Name\" : \"Shyam\", \"email\" : \"bbhhh@gjj.com\"}"
   ]
  },
  {
   "cell_type": "code",
   "execution_count": 25,
   "id": "74f15ee8-9caf-4ac0-95d9-39a86726556c",
   "metadata": {},
   "outputs": [
    {
     "data": {
      "text/plain": [
       "'Shyam'"
      ]
     },
     "execution_count": 25,
     "metadata": {},
     "output_type": "execute_result"
    }
   ],
   "source": [
    "d4[\"Name\"]"
   ]
  },
  {
   "cell_type": "code",
   "execution_count": 26,
   "id": "a95bbc2c-299e-4a7b-a806-9583d57c3a98",
   "metadata": {},
   "outputs": [],
   "source": [
    "d5={\"company\" : \"PW Skills\", \"course\" : [ \"Data Science\", \"Data Analyst\", \"Big Data\" ]}"
   ]
  },
  {
   "cell_type": "code",
   "execution_count": 27,
   "id": "37120c13-bf27-42e1-a1c7-21bfa9c75386",
   "metadata": {},
   "outputs": [
    {
     "data": {
      "text/plain": [
       "{'company': 'PW Skills',\n",
       " 'course': ['Data Science', 'Data Analyst', 'Big Data']}"
      ]
     },
     "execution_count": 27,
     "metadata": {},
     "output_type": "execute_result"
    }
   ],
   "source": [
    "d5"
   ]
  },
  {
   "cell_type": "code",
   "execution_count": 30,
   "id": "90ee65d5-39bd-48e9-b6e7-cb699c4648ae",
   "metadata": {},
   "outputs": [
    {
     "data": {
      "text/plain": [
       "'Big Data'"
      ]
     },
     "execution_count": 30,
     "metadata": {},
     "output_type": "execute_result"
    }
   ],
   "source": [
    "d5[\"course\"][2]"
   ]
  },
  {
   "cell_type": "code",
   "execution_count": 47,
   "id": "346abef9-a234-4d16-9c95-1f4ccd76b441",
   "metadata": {},
   "outputs": [],
   "source": [
    "d6= {\"Number\":[33,22,37,22,33,445,66,55], \"assingement\": [77,33,22,23,99,445,66], \"Launch_date\" : {23,4,24}, \"Class_time\":{\"Data Science\": 8, \"Data Anlyst\": \"4pm\"}}"
   ]
  },
  {
   "cell_type": "code",
   "execution_count": 48,
   "id": "1161f424-e554-4604-a945-906a89ee28ba",
   "metadata": {},
   "outputs": [
    {
     "data": {
      "text/plain": [
       "{'Number': [33, 22, 37, 22, 33, 445, 66, 55],\n",
       " 'assingement': [77, 33, 22, 23, 99, 445, 66],\n",
       " 'Launch_date': {4, 23, 24},\n",
       " 'Class_time': {'Data Science': 8, 'Data Anlyst': '4pm'}}"
      ]
     },
     "execution_count": 48,
     "metadata": {},
     "output_type": "execute_result"
    }
   ],
   "source": [
    "d6"
   ]
  },
  {
   "cell_type": "code",
   "execution_count": 51,
   "id": "f41e99a5-586c-41ca-b4fe-3b5256465bb2",
   "metadata": {},
   "outputs": [
    {
     "data": {
      "text/plain": [
       "8"
      ]
     },
     "execution_count": 51,
     "metadata": {},
     "output_type": "execute_result"
    }
   ],
   "source": [
    "d6[\"Class_time\"][\"Data Science\"]"
   ]
  },
  {
   "cell_type": "code",
   "execution_count": 52,
   "id": "6e19f2b1-1b34-4eb3-b070-766d9afee1a2",
   "metadata": {},
   "outputs": [
    {
     "data": {
      "text/plain": [
       "{'Number': [33, 22, 37, 22, 33, 445, 66, 55],\n",
       " 'assingement': [77, 33, 22, 23, 99, 445, 66],\n",
       " 'Launch_date': {4, 23, 24},\n",
       " 'Class_time': {'Data Science': 8, 'Data Anlyst': '4pm'}}"
      ]
     },
     "execution_count": 52,
     "metadata": {},
     "output_type": "execute_result"
    }
   ],
   "source": [
    "d6"
   ]
  },
  {
   "cell_type": "code",
   "execution_count": 55,
   "id": "e96e8f45-7255-4b21-aa99-8b513ab2858f",
   "metadata": {},
   "outputs": [],
   "source": [
    "d6[\"Mentor\"]=[\"Ram\", \"Shyam\", \"Ramu\"]"
   ]
  },
  {
   "cell_type": "code",
   "execution_count": 56,
   "id": "9b824945-1c9a-49fb-8cb6-82a997491f44",
   "metadata": {},
   "outputs": [
    {
     "data": {
      "text/plain": [
       "{'Number': [33, 22, 37, 22, 33, 445, 66, 55],\n",
       " 'assingement': [77, 33, 22, 23, 99, 445, 66],\n",
       " 'Launch_date': {4, 23, 24},\n",
       " 'Class_time': {'Data Science': 8, 'Data Anlyst': '4pm'},\n",
       " 'Mentor': ['Ram', 'Shyam', 'Ramu']}"
      ]
     },
     "execution_count": 56,
     "metadata": {},
     "output_type": "execute_result"
    }
   ],
   "source": [
    "d6"
   ]
  },
  {
   "cell_type": "code",
   "execution_count": 58,
   "id": "0c839793-a348-4fcf-9599-089add3626f5",
   "metadata": {},
   "outputs": [],
   "source": [
    "del d6['Launch_date']"
   ]
  },
  {
   "cell_type": "code",
   "execution_count": 59,
   "id": "0ef768d9-690e-4d03-9bed-05a846c82f52",
   "metadata": {},
   "outputs": [
    {
     "data": {
      "text/plain": [
       "{'Number': [33, 22, 37, 22, 33, 445, 66, 55],\n",
       " 'assingement': [77, 33, 22, 23, 99, 445, 66],\n",
       " 'Class_time': {'Data Science': 8, 'Data Anlyst': '4pm'},\n",
       " 'Mentor': ['Ram', 'Shyam', 'Ramu']}"
      ]
     },
     "execution_count": 59,
     "metadata": {},
     "output_type": "execute_result"
    }
   ],
   "source": [
    "d6"
   ]
  },
  {
   "cell_type": "code",
   "execution_count": 62,
   "id": "b44da3e4-d922-467d-91ac-6ec205108ed5",
   "metadata": {},
   "outputs": [
    {
     "data": {
      "text/plain": [
       "['Number', 'assingement', 'Class_time', 'Mentor']"
      ]
     },
     "execution_count": 62,
     "metadata": {},
     "output_type": "execute_result"
    }
   ],
   "source": [
    "list(d6.keys())"
   ]
  },
  {
   "cell_type": "code",
   "execution_count": 65,
   "id": "95ffeac4-f489-4f5c-9c71-0f9cc6d59d51",
   "metadata": {},
   "outputs": [
    {
     "data": {
      "text/plain": [
       "dict_items([('Number', [33, 22, 37, 22, 33, 445, 66, 55]), ('assingement', [77, 33, 22, 23, 99, 445, 66]), ('Class_time', {'Data Science': 8, 'Data Anlyst': '4pm'}), ('Mentor', ['Ram', 'Shyam', 'Ramu'])])"
      ]
     },
     "execution_count": 65,
     "metadata": {},
     "output_type": "execute_result"
    }
   ],
   "source": [
    "d6.items()"
   ]
  },
  {
   "cell_type": "code",
   "execution_count": 7,
   "id": "ad3a051f-fdbc-485c-8870-b5f4a9cd0ac6",
   "metadata": {},
   "outputs": [
    {
     "name": "stdin",
     "output_type": "stream",
     "text": [
      "Enter your marks 56.25\n"
     ]
    },
    {
     "name": "stdout",
     "output_type": "stream",
     "text": [
      "you are the part of A2 batch\n"
     ]
    }
   ],
   "source": [
    "marks = float(input(\"Enter your marks\"))\n",
    "if marks >= 80:\n",
    "    print(\"you are the part of A0 batch\")\n",
    "elif marks >=60 and marks <80 :\n",
    "    print(\"you are the part of A1 batch\")\n",
    "elif marks >=40 and marks <60 :\n",
    "    print(\"you are the part of A2 batch\")\n",
    "else :\n",
    "    print(\"You are the part of A3 batch\")\n"
   ]
  },
  {
   "cell_type": "code",
   "execution_count": 8,
   "id": "194fead9-1734-454c-b547-489e93e06cc7",
   "metadata": {},
   "outputs": [],
   "source": [
    "l = [1,2,3,4,8,5,6,7]"
   ]
  },
  {
   "cell_type": "code",
   "execution_count": 11,
   "id": "ccf892d3-e95f-4f17-acc0-1590e389b538",
   "metadata": {},
   "outputs": [
    {
     "name": "stdout",
     "output_type": "stream",
     "text": [
      "2\n",
      "3\n",
      "4\n",
      "5\n",
      "9\n",
      "6\n",
      "7\n",
      "8\n"
     ]
    }
   ],
   "source": [
    "\n",
    "for i in l:\n",
    "    print(i+1)"
   ]
  },
  {
   "cell_type": "code",
   "execution_count": 1,
   "id": "de339fdf-4a04-4747-8925-169588964148",
   "metadata": {},
   "outputs": [],
   "source": [
    "l = [2,3,4,5,6,7,8,9]"
   ]
  },
  {
   "cell_type": "code",
   "execution_count": 5,
   "id": "9dc8f8e1-9ebf-414d-97f2-24d531ff6eb6",
   "metadata": {},
   "outputs": [
    {
     "name": "stdout",
     "output_type": "stream",
     "text": [
      "3\n",
      "4\n",
      "5\n",
      "6\n",
      "7\n",
      "8\n",
      "9\n",
      "10\n"
     ]
    },
    {
     "data": {
      "text/plain": [
       "[3, 4, 5, 6, 7, 8, 9, 10]"
      ]
     },
     "execution_count": 5,
     "metadata": {},
     "output_type": "execute_result"
    }
   ],
   "source": [
    "l1 = []\n",
    "for i in l:\n",
    "    print(i+1)\n",
    "    l1.append(i+1)\n",
    "l1\n"
   ]
  },
  {
   "cell_type": "code",
   "execution_count": 6,
   "id": "1c8b0ae4-4baf-4265-b7c0-3a8341a9708c",
   "metadata": {},
   "outputs": [
    {
     "data": {
      "text/plain": [
       "[3, 4, 5, 6, 7, 8, 9, 10]"
      ]
     },
     "execution_count": 6,
     "metadata": {},
     "output_type": "execute_result"
    }
   ],
   "source": [
    "l1"
   ]
  },
  {
   "cell_type": "code",
   "execution_count": 7,
   "id": "9f743bfa-caa3-46f3-9cb4-73332e5143d7",
   "metadata": {},
   "outputs": [],
   "source": [
    "l = [\"kumar\", \"ramesh\", \"jugnu\", \"jpmby\"]"
   ]
  },
  {
   "cell_type": "code",
   "execution_count": 14,
   "id": "487d0b91-0466-42d1-bf61-e9bcb69eec64",
   "metadata": {},
   "outputs": [
    {
     "name": "stdout",
     "output_type": "stream",
     "text": [
      "kumar\n",
      "ramesh\n",
      "jugnu\n",
      "jpmby\n"
     ]
    },
    {
     "data": {
      "text/plain": [
       "['KUMAR', 'RAMESH', 'JUGNU', 'JPMBY']"
      ]
     },
     "execution_count": 14,
     "metadata": {},
     "output_type": "execute_result"
    }
   ],
   "source": [
    "l1 = []\n",
    "for i in l:\n",
    "    print(i)\n",
    "    l1.append(i.upper())\n",
    "l1\n",
    "    "
   ]
  },
  {
   "cell_type": "code",
   "execution_count": 15,
   "id": "6733594c-408d-4719-afdf-2e53c89eb75f",
   "metadata": {},
   "outputs": [],
   "source": [
    "l = [2,3,5, \"Ram\", \"Shyam\", \"Golu\", 6,5,4,90.56, \"Gokul\"]"
   ]
  },
  {
   "cell_type": "code",
   "execution_count": 21,
   "id": "2ea704c8-27e7-4856-b45d-98775d2bf8f1",
   "metadata": {},
   "outputs": [],
   "source": [
    "l1 = []\n",
    "l2 = []\n",
    "for i in l:\n",
    "    if type(i) == int or type(i) == float:\n",
    "        l1.append(i)\n",
    "    else :\n",
    "        l2.append(i)"
   ]
  },
  {
   "cell_type": "code",
   "execution_count": 22,
   "id": "f2c72539-d133-4bfa-844e-9b08e0eb5cbc",
   "metadata": {},
   "outputs": [
    {
     "data": {
      "text/plain": [
       "[2, 3, 5, 6, 5, 4, 90.56]"
      ]
     },
     "execution_count": 22,
     "metadata": {},
     "output_type": "execute_result"
    }
   ],
   "source": [
    "l1"
   ]
  },
  {
   "cell_type": "code",
   "execution_count": null,
   "id": "2561a7e8-32fc-4a1e-a358-5f51eaff68fd",
   "metadata": {},
   "outputs": [],
   "source": []
  }
 ],
 "metadata": {
  "kernelspec": {
   "display_name": "Python 3 (ipykernel)",
   "language": "python",
   "name": "python3"
  },
  "language_info": {
   "codemirror_mode": {
    "name": "ipython",
    "version": 3
   },
   "file_extension": ".py",
   "mimetype": "text/x-python",
   "name": "python",
   "nbconvert_exporter": "python",
   "pygments_lexer": "ipython3",
   "version": "3.10.8"
  }
 },
 "nbformat": 4,
 "nbformat_minor": 5
}
